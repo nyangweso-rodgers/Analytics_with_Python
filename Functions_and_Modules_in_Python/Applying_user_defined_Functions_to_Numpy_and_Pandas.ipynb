{
 "metadata": {
  "language_info": {
   "codemirror_mode": {
    "name": "ipython",
    "version": 3
   },
   "file_extension": ".py",
   "mimetype": "text/x-python",
   "name": "python",
   "nbconvert_exporter": "python",
   "pygments_lexer": "ipython3",
   "version": "3.7.6-final"
  },
  "orig_nbformat": 2,
  "kernelspec": {
   "name": "python3",
   "display_name": "Python 3",
   "language": "python"
  }
 },
 "nbformat": 4,
 "nbformat_minor": 2,
 "cells": [
  {
   "source": [
    "## Applying user-defined Functions to Numpy and Pandas"
   ],
   "cell_type": "markdown",
   "metadata": {}
  },
  {
   "cell_type": "code",
   "execution_count": 1,
   "metadata": {},
   "outputs": [],
   "source": [
    "import numpy as np \n",
    "import pandas as pd "
   ]
  },
  {
   "cell_type": "code",
   "execution_count": 2,
   "metadata": {},
   "outputs": [
    {
     "output_type": "execute_result",
     "data": {
      "text/plain": [
       "array([[ 10,   2,  13],\n",
       "       [ 21,  22,  23],\n",
       "       [ 31,  32,  33],\n",
       "       [ 10,  57,  20],\n",
       "       [ 20,  20,  20],\n",
       "       [101,  91,  10]])"
      ]
     },
     "metadata": {},
     "execution_count": 2
    }
   ],
   "source": [
    "my_array = np.array([[10,2,13],\n",
    "                     [21,22,23],\n",
    "                     [31,32,33],\n",
    "                     [10,57,20],\n",
    "                     [20,20,20],\n",
    "                     [101,91,10]])\n",
    "my_array"
   ]
  },
  {
   "cell_type": "code",
   "execution_count": 6,
   "metadata": {},
   "outputs": [
    {
     "output_type": "stream",
     "name": "stdout",
     "text": [
      "[5 5 2]\n[2 2 2 1 0 0]\n"
     ]
    }
   ],
   "source": [
    "def my_function(x):\n",
    "    position = np.argmax(x)\n",
    "    return position\n",
    "print (np.apply_along_axis(my_function, axis=0, arr=my_array)) # Using axis=0 we can apply that function to all columns:\n",
    "print (np.apply_along_axis(my_function, axis=1, arr=my_array)) # Using axis=1 we can apply that function to all rows:"
   ]
  },
  {
   "cell_type": "code",
   "execution_count": 26,
   "metadata": {},
   "outputs": [
    {
     "output_type": "execute_result",
     "data": {
      "text/plain": [
       "     A   B   C\n",
       "0   15   5  16\n",
       "1   25  24  25\n",
       "2   35  34  35\n",
       "3   14  59  22\n",
       "4   24  22  22\n",
       "5  105  93  12"
      ],
      "text/html": "<div>\n<style scoped>\n    .dataframe tbody tr th:only-of-type {\n        vertical-align: middle;\n    }\n\n    .dataframe tbody tr th {\n        vertical-align: top;\n    }\n\n    .dataframe thead th {\n        text-align: right;\n    }\n</style>\n<table border=\"1\" class=\"dataframe\">\n  <thead>\n    <tr style=\"text-align: right;\">\n      <th></th>\n      <th>A</th>\n      <th>B</th>\n      <th>C</th>\n    </tr>\n  </thead>\n  <tbody>\n    <tr>\n      <th>0</th>\n      <td>15</td>\n      <td>5</td>\n      <td>16</td>\n    </tr>\n    <tr>\n      <th>1</th>\n      <td>25</td>\n      <td>24</td>\n      <td>25</td>\n    </tr>\n    <tr>\n      <th>2</th>\n      <td>35</td>\n      <td>34</td>\n      <td>35</td>\n    </tr>\n    <tr>\n      <th>3</th>\n      <td>14</td>\n      <td>59</td>\n      <td>22</td>\n    </tr>\n    <tr>\n      <th>4</th>\n      <td>24</td>\n      <td>22</td>\n      <td>22</td>\n    </tr>\n    <tr>\n      <th>5</th>\n      <td>105</td>\n      <td>93</td>\n      <td>12</td>\n    </tr>\n  </tbody>\n</table>\n</div>"
     },
     "metadata": {},
     "execution_count": 26
    }
   ],
   "source": [
    "# convert array to dataframe with pre-defined column names\n",
    "df = pd.DataFrame(data = my_array,columns = ['A', 'B', 'C'])\n",
    "df"
   ]
  },
  {
   "cell_type": "code",
   "execution_count": 19,
   "metadata": {},
   "outputs": [
    {
     "output_type": "stream",
     "name": "stdout",
     "text": [
      "A    5\nB    5\nC    2\ndtype: int64\n"
     ]
    }
   ],
   "source": [
    "def my_function(x):\n",
    "    '''\n",
    "    The Pandas method for determining the position of the highest value is idxmax.\n",
    "    '''\n",
    "    z = x.idxmax()\n",
    "    return z\n",
    "print(df.apply(my_function, axis=0)) # returns the  position of the highest value in each column"
   ]
  },
  {
   "source": [
    "#### Applying Function to a specific pandas column"
   ],
   "cell_type": "markdown",
   "metadata": {}
  },
  {
   "cell_type": "code",
   "execution_count": 25,
   "metadata": {},
   "outputs": [
    {
     "output_type": "execute_result",
     "data": {
      "text/plain": [
       "     A   B   C\n",
       "0   15   5  16\n",
       "1   25  24  25\n",
       "2   35  34  35\n",
       "3   14  59  22\n",
       "4   24  22  22\n",
       "5  105  93  12"
      ],
      "text/html": "<div>\n<style scoped>\n    .dataframe tbody tr th:only-of-type {\n        vertical-align: middle;\n    }\n\n    .dataframe tbody tr th {\n        vertical-align: top;\n    }\n\n    .dataframe thead th {\n        text-align: right;\n    }\n</style>\n<table border=\"1\" class=\"dataframe\">\n  <thead>\n    <tr style=\"text-align: right;\">\n      <th></th>\n      <th>A</th>\n      <th>B</th>\n      <th>C</th>\n    </tr>\n  </thead>\n  <tbody>\n    <tr>\n      <th>0</th>\n      <td>15</td>\n      <td>5</td>\n      <td>16</td>\n    </tr>\n    <tr>\n      <th>1</th>\n      <td>25</td>\n      <td>24</td>\n      <td>25</td>\n    </tr>\n    <tr>\n      <th>2</th>\n      <td>35</td>\n      <td>34</td>\n      <td>35</td>\n    </tr>\n    <tr>\n      <th>3</th>\n      <td>14</td>\n      <td>59</td>\n      <td>22</td>\n    </tr>\n    <tr>\n      <th>4</th>\n      <td>24</td>\n      <td>22</td>\n      <td>22</td>\n    </tr>\n    <tr>\n      <th>5</th>\n      <td>105</td>\n      <td>93</td>\n      <td>12</td>\n    </tr>\n  </tbody>\n</table>\n</div>"
     },
     "metadata": {},
     "execution_count": 25
    }
   ],
   "source": [
    "def addOne(v):\n",
    "    v['A'] += 1\n",
    "    return v\n",
    "\n",
    "df2 = df.apply(addOne, axis=1)\n",
    "df2"
   ]
  },
  {
   "cell_type": "code",
   "execution_count": null,
   "metadata": {},
   "outputs": [],
   "source": [
    "df3 = pd.DataFrame()"
   ]
  },
  {
   "source": [
    "#### References\n",
    "1. https://pythonhealthcare.org/2018/04/04/25-applying-user-defined-functions-to-numpy-and-pandas/"
   ],
   "cell_type": "markdown",
   "metadata": {}
  }
 ]
}