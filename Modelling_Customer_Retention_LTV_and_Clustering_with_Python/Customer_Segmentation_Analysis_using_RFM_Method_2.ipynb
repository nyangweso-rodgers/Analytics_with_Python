{
 "metadata": {
  "language_info": {
   "codemirror_mode": {
    "name": "ipython",
    "version": 3
   },
   "file_extension": ".py",
   "mimetype": "text/x-python",
   "name": "python",
   "nbconvert_exporter": "python",
   "pygments_lexer": "ipython3",
   "version": "3.7.6-final"
  },
  "orig_nbformat": 2,
  "kernelspec": {
   "name": "python3",
   "display_name": "Python 3",
   "language": "python"
  }
 },
 "nbformat": 4,
 "nbformat_minor": 2,
 "cells": [
  {
   "source": [
    "# Customer Segmentation using RFM analysis\n",
    "### Method 2: Defining Functions"
   ],
   "cell_type": "markdown",
   "metadata": {}
  },
  {
   "cell_type": "code",
   "execution_count": 1,
   "metadata": {},
   "outputs": [
    {
     "output_type": "display_data",
     "data": {
      "text/plain": "<Figure size 720x576 with 0 Axes>"
     },
     "metadata": {}
    }
   ],
   "source": [
    "## Import appropriate modules\n",
    "import pandas as pd \n",
    "import numpy as np \n",
    "import matplotlib.pyplot as plt\n",
    "plt.figure(figsize=(10, 8))\n",
    "plt.style.use('seaborn-white')\n",
    "import seaborn as sns \n",
    "import datetime as dt"
   ]
  },
  {
   "cell_type": "code",
   "execution_count": 2,
   "metadata": {},
   "outputs": [
    {
     "output_type": "stream",
     "name": "stdout",
     "text": [
      "                                     id       date   sales\n0  000173c5-978c-4b52-b7a4-5ebf974deb86 2020-08-13  1690.0\n1  000173c5-978c-4b52-b7a4-5ebf974deb86 2020-08-14  6145.0\n2  000173c5-978c-4b52-b7a4-5ebf974deb86 2020-08-15  4550.0\n3  000173c5-978c-4b52-b7a4-5ebf974deb86 2020-08-17  1270.0\n4  000173c5-978c-4b52-b7a4-5ebf974deb86 2020-08-20  3830.0\n"
     ]
    }
   ],
   "source": [
    "# load the data set\n",
    "df = pd.read_excel('data_for_RFM_score_analysis.xlsx')\n",
    "print(df.head()) "
   ]
  },
  {
   "cell_type": "code",
   "execution_count": 3,
   "metadata": {},
   "outputs": [
    {
     "output_type": "stream",
     "name": "stdout",
     "text": [
      "<class 'pandas.core.frame.DataFrame'>\nRangeIndex: 804659 entries, 0 to 804658\nData columns (total 3 columns):\n #   Column  Non-Null Count   Dtype         \n---  ------  --------------   -----         \n 0   id      804659 non-null  object        \n 1   date    804659 non-null  datetime64[ns]\n 2   sales   804659 non-null  float64       \ndtypes: datetime64[ns](1), float64(1), object(1)\nmemory usage: 18.4+ MB\n"
     ]
    }
   ],
   "source": [
    "# convert the date column to datetime data type\n",
    "df['date'] = pd.to_datetime(df['date'])\n",
    "df.info()"
   ]
  },
  {
   "cell_type": "code",
   "execution_count": 4,
   "metadata": {},
   "outputs": [
    {
     "output_type": "stream",
     "name": "stdout",
     "text": [
      "Maximum Date: 2020-09-25 00:00:00\n",
      "Current Date: 2020-09-26 00:00:00\n"
     ]
    }
   ],
   "source": [
    "# create a snapshot date with today's date\n",
    "print('Maximum Date:', df['date'].max()) # Max Date: 2020-09-25 00:00:00\n",
    "\n",
    "snapshot_date = max(df.date) + dt.timedelta(days=1)\n",
    "print('Current Date:',snapshot_date) # 2020-09-26 00:00:00"
   ]
  },
  {
   "cell_type": "code",
   "execution_count": 5,
   "metadata": {},
   "outputs": [
    {
     "output_type": "stream",
     "name": "stdout",
     "text": [
      "                                      recency  tenure  frequency  total_value  \\\nid                                                                              \n60d4746e-c945-4ad7-ad3d-7240487edb8b       31      31          1       1950.0   \nc73b736c-6042-4ba8-947a-8183ba1f3076       29     161         16      14925.0   \n948b966c-7a24-4357-9591-c1656a6c9a34        1      46         11       3570.0   \nd0e08372-1044-48ad-9636-faae5a8f12f1       92     159          9      16115.0   \n5b849fe4-7f36-4242-8d3a-466afa9de433       44     161          7       6320.0   \n\n                                       mean_value  \nid                                                 \n60d4746e-c945-4ad7-ad3d-7240487edb8b  1950.000000  \nc73b736c-6042-4ba8-947a-8183ba1f3076   932.812500  \n948b966c-7a24-4357-9591-c1656a6c9a34   324.545455  \nd0e08372-1044-48ad-9636-faae5a8f12f1  1790.555556  \n5b849fe4-7f36-4242-8d3a-466afa9de433   902.857143  \n"
     ]
    }
   ],
   "source": [
    "# create functions to get recency and tenure\n",
    "def get_recency(x):\n",
    "    last_purchase = x.max()\n",
    "    return (snapshot_date - last_purchase).days\n",
    "\n",
    "def get_tenure(x):\n",
    "    first_purchase = x.min()\n",
    "    return (snapshot_date - first_purchase).days\n",
    "\n",
    "# aggregate data by the customers\n",
    "customers = df.groupby('id').agg(\n",
    "    recency=('date', get_recency),\n",
    "    tenure=('date', get_tenure),\n",
    "    frequency=('id', 'count'),\n",
    "    total_value=('sales', 'sum'),\n",
    "    mean_value=('sales', 'mean')\n",
    "    )\n",
    "# show 5 samples of the grouped dataframe\n",
    "print(customers.sample(5))"
   ]
  },
  {
   "source": [
    "### Remark 1\n",
    "We have added another two columns:\n",
    "* the tenure, which represents the time since the customer first purchase \n",
    "* mean value"
   ],
   "cell_type": "markdown",
   "metadata": {}
  },
  {
   "source": [
    "### RFM Segments\n",
    "* The next thing we need to do is to segment the __recency__, __frequency__, and __total_value__ into the categories.\n",
    "* For our use case, we decided to split each feature into 4 quartiles that roughly divide the sample into 4 segments of equal proportion. \n",
    "* We have called these scores __R__, __F__, and __M__ respectively."
   ],
   "cell_type": "markdown",
   "metadata": {}
  },
  {
   "cell_type": "code",
   "execution_count": 8,
   "metadata": {},
   "outputs": [
    {
     "output_type": "stream",
     "name": "stdout",
     "text": [
      "   index                                    id  recency  tenure  frequency  \\\n0      0  000173c5-978c-4b52-b7a4-5ebf974deb86        1     161         54   \n1      1  0001b0ce-f323-49b5-b381-3348c7a001ab        1      85         54   \n2      2  00020337-5321-4d6e-83af-67905edd8006        8      49          4   \n3      3  00066d09-6e2e-4104-b03b-6927490e1972       16     163         84   \n4      4  00069d0b-c994-4555-a30e-0c0799d77fe1       10     175         48   \n\n   total_value   mean_value  \n0     149415.0  2766.944444  \n1     266800.0  4940.740741  \n2      13385.0  3346.250000  \n3      75388.0   897.476190  \n4      75630.0  1575.625000  \n"
     ]
    }
   ],
   "source": [
    "# use only the necessary columns\n",
    "customers = customers.reset_index() # re-set index for the next caclculation\n",
    "#rfm = customers[['id', 'recency', 'frequency', 'total_value']]\n",
    "print(customers.head())"
   ]
  },
  {
   "cell_type": "code",
   "execution_count": 27,
   "metadata": {},
   "outputs": [
    {
     "output_type": "stream",
     "name": "stdout",
     "text": [
      "   index                                    id  recency  tenure  frequency  \\\n0      0  000173c5-978c-4b52-b7a4-5ebf974deb86        1     161         54   \n1      1  0001b0ce-f323-49b5-b381-3348c7a001ab        1      85         54   \n2      2  00020337-5321-4d6e-83af-67905edd8006        8      49          4   \n3      3  00066d09-6e2e-4104-b03b-6927490e1972       16     163         84   \n4      4  00069d0b-c994-4555-a30e-0c0799d77fe1       10     175         48   \n\n   total_value   mean_value  R  F  M RFMClass  Score  score  \n0     149415.0  2766.944444  4  4  4      444     12     12  \n1     266800.0  4940.740741  4  4  4      444     12     12  \n2      13385.0  3346.250000  3  2  2      322      7      7  \n3      75388.0   897.476190  2  4  4      244     10     10  \n4      75630.0  1575.625000  3  4  4      344     11     11  \n"
     ]
    }
   ],
   "source": [
    "# recency quartile segmentation\n",
    "r_labels = range(4, 0, -1)\n",
    "recency = customers['recency']\n",
    "r_quartiles, bins = pd.qcut(recency, 4, labels=r_labels, retbins=True)\n",
    "customers = customers.assign(R=r_quartiles.values)\n",
    "\n",
    "# frequency quartile segmentation\n",
    "f_labels = range(1, 5)\n",
    "frequency = customers['frequency'].rank(method='first') # rank to deal with duplicate values\n",
    "f_quartiles, bins = pd.qcut(frequency, 4, labels=f_labels, retbins=True)\n",
    "customers = customers.assign(F = f_quartiles.values)\n",
    "\n",
    "# monetary value quartile segmentation\n",
    "m_labels = range(1, 5)\n",
    "monetary = customers['total_value']\n",
    "m_quartiles, bins = pd.qcut(monetary, 4, labels=m_labels, retbins=True)\n",
    "customers = customers.assign(M = m_quartiles.values)\n",
    "\n",
    "customers['RFMClass'] = customers[\"R\"].astype(str) + customers[\"F\"].astype(str) + customers[\"M\"].astype(str)\n",
    "customers['score'] = customers['R'].astype(int) + customers['F'].astype(int) + customers['M'].astype(int)\n",
    "\n",
    "print(customers.head())"
   ]
  },
  {
   "source": [
    "### Remark 2\n",
    "* To simplify the analysis, it is important that we combine the 3 different scores (R, F, and M) to create a single metric.\n",
    "* There are a few approaches available:\n",
    "\n",
    "1. The first one is to create an RFM Segment by concatenating the 3 digits from the individual scores to form a 3 character string that goes from 111 (lowest possible score in all three metrics) to 444 (highest possible score in all three metrics). The drawback of this method is the creation of many distinct segments (4x4x4 = 64 segments) which are not so easy to differentiate and prioritize (who is more valuable, a 432 or a 234 customer?).\n",
    "\n",
    "2. Another possibility is to sum the 3 individual scores to create the RFM Score, a number ranging from 3 (lowest possible score in all metrics) to 12 (highest possible score in all metrics). Here the drawback is that customers with different buying habits (e.g. from different RFM Segments) can fall on the same score bins. For example, both customers in segments 431 and 134 would get a score of 8. On the other hand, we end up with less distinct scores to compare (4+4+4 = 12 scores), each of them with equal relevance."
   ],
   "cell_type": "markdown",
   "metadata": {}
  },
  {
   "source": [
    "### Remark 3\n",
    "We can further divide the customers into RFM tiers by binning together ranges of scores. For example, we can say that customers with scores ranging from 3 to 5 are Bronze, from 5 to 9 are Silver and from 9 to 12 are Gold."
   ],
   "cell_type": "markdown",
   "metadata": {}
  },
  {
   "cell_type": "code",
   "execution_count": null,
   "metadata": {},
   "outputs": [],
   "source": [
    "RFM_Segment['TotalScore'] = RFM_Segment['R_Quartile'] + RFM_Segment['F_Quartile'] + RFM_Segment['M_Quartile']"
   ]
  },
  {
   "cell_type": "code",
   "execution_count": 31,
   "metadata": {},
   "outputs": [
    {
     "output_type": "stream",
     "name": "stdout",
     "text": [
      "   index                                    id  recency  tenure  frequency  \\\n0      0  000173c5-978c-4b52-b7a4-5ebf974deb86        1     161         54   \n1      1  0001b0ce-f323-49b5-b381-3348c7a001ab        1      85         54   \n2      2  00020337-5321-4d6e-83af-67905edd8006        8      49          4   \n3      3  00066d09-6e2e-4104-b03b-6927490e1972       16     163         84   \n4      4  00069d0b-c994-4555-a30e-0c0799d77fe1       10     175         48   \n\n   total_value   mean_value  R  F  M RFMClass  Score  score    tier  \n0     149415.0  2766.944444  4  4  4      444     12     12    Gold  \n1     266800.0  4940.740741  4  4  4      444     12     12    Gold  \n2      13385.0  3346.250000  3  2  2      322      7      7  Silver  \n3      75388.0   897.476190  2  4  4      244     10     10    Gold  \n4      75630.0  1575.625000  3  4  4      344     11     11    Gold  \n"
     ]
    }
   ],
   "source": [
    "# group into different tiers\n",
    "def get_tier(df):\n",
    "    if df['score'] >= 9:\n",
    "        return 'Gold'\n",
    "    elif (df['score'] >= 5) and (df['score'] < 9):\n",
    "        return 'Silver'\n",
    "    else:\n",
    "        return 'Bronze'\n",
    "customers['tier'] = customers.apply(get_tier, axis=1)\n",
    "# save to excel\n",
    "customers.to_excel('Report_RFM_Segments_Method_2.xlsx')\n",
    "print(customers.head())"
   ]
  },
  {
   "cell_type": "code",
   "execution_count": 37,
   "metadata": {},
   "outputs": [
    {
     "output_type": "execute_result",
     "data": {
      "text/plain": [
       "Gold      14504\n",
       "Silver    12781\n",
       "Bronze     7612\n",
       "Name: tier, dtype: int64"
      ]
     },
     "metadata": {},
     "execution_count": 37
    }
   ],
   "source": [
    "#### Distribution of customers under different tiers\n",
    "customers['tier'].value_counts()"
   ]
  },
  {
   "source": [
    "#### References\n",
    "1. https://towardsdatascience.com/divide-and-conquer-segment-your-customers-using-rfm-analysis-68aee749adf6"
   ],
   "cell_type": "markdown",
   "metadata": {}
  }
 ]
}