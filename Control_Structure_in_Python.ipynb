{
 "metadata": {
  "language_info": {
   "codemirror_mode": {
    "name": "ipython",
    "version": 3
   },
   "file_extension": ".py",
   "mimetype": "text/x-python",
   "name": "python",
   "nbconvert_exporter": "python",
   "pygments_lexer": "ipython3",
   "version": "3.8.8"
  },
  "orig_nbformat": 4,
  "kernelspec": {
   "name": "python3",
   "display_name": "Python 3.8.8 64-bit (conda)"
  },
  "interpreter": {
   "hash": "1e915f0a29dc84041eaeb02b7b1a21c440e37a87b61d44d5e84a515737dc82bc"
  }
 },
 "nbformat": 4,
 "nbformat_minor": 2,
 "cells": [
  {
   "source": [
    "# Control Structure in Python\n",
    "__Algorithms__ require two important control structures: __iteration__ and __selection__.\n",
    "\n",
    "For __iteration__, Python provides a standard __while__ statement and a very powerful __for__ statement. A __while__ statement repeats a body of code as long as a condition is true."
   ],
   "cell_type": "markdown",
   "metadata": {}
  },
  {
   "source": [
    "## While Loops\n",
    "The statement inside a __while__ loop is _repeatedly executed as long as the condition holds_.  Once it evaluates to False, the next section of the code is executed. \n",
    "The __break__ statement is used to end a while loop prematurely."
   ],
   "cell_type": "markdown",
   "metadata": {}
  },
  {
   "source": [
    "### Example 1: printing even values using a while loop"
   ],
   "cell_type": "markdown",
   "metadata": {}
  },
  {
   "cell_type": "code",
   "execution_count": 31,
   "metadata": {},
   "outputs": [
    {
     "output_type": "stream",
     "name": "stdout",
     "text": [
      "0\n2\n4\n6\n8\n10\n12\n14\n16\n18\n20\n"
     ]
    }
   ],
   "source": [
    "## Printing Even Numbers between 0 and 20 inclusive\n",
    "x = 0\n",
    "while x<=20:\n",
    "    print(x)\n",
    "    x += 2"
   ]
  },
  {
   "source": [
    "### Example 2: printing same value using a while loop"
   ],
   "cell_type": "markdown",
   "metadata": {}
  },
  {
   "cell_type": "code",
   "execution_count": 6,
   "metadata": {},
   "outputs": [
    {
     "output_type": "stream",
     "name": "stdout",
     "text": [
      "Rodgers Nyangweso\nRodgers Nyangweso\nRodgers Nyangweso\nRodgers Nyangweso\nRodgers Nyangweso\n"
     ]
    }
   ],
   "source": [
    "# here, the name \"Rodgers Nyangweso\" is printed five times\n",
    "counter = 1\n",
    "while counter <=5:\n",
    "    print('Rodgers Nyangweso')\n",
    "    counter += 1"
   ]
  },
  {
   "source": [
    "#### Using the True key word and the break statement  "
   ],
   "cell_type": "markdown",
   "metadata": {}
  },
  {
   "cell_type": "code",
   "execution_count": 32,
   "metadata": {},
   "outputs": [
    {
     "output_type": "stream",
     "name": "stdout",
     "text": [
      "5\n4\n3\n"
     ]
    }
   ],
   "source": [
    "i = 5\n",
    "while True:\n",
    "    print(i)\n",
    "    i -= 1\n",
    "    if i <= 2:\n",
    "        break"
   ]
  },
  {
   "source": [
    "#### Continue\n",
    "Unlike __break__, __continue__ jumps back to the top of the loop, rather than stopping it."
   ],
   "cell_type": "markdown",
   "metadata": {}
  },
  {
   "cell_type": "code",
   "execution_count": 33,
   "metadata": {},
   "outputs": [
    {
     "output_type": "stream",
     "name": "stdout",
     "text": [
      ".\nBreaking!\nFinished!\n"
     ]
    }
   ],
   "source": [
    "i = 0\n",
    "while True:\n",
    "    i += 1\n",
    "    if i == 2:\n",
    "        print(\".\")\n",
    "        continue\n",
    "    if i == 5:\n",
    "        print('Breaking!')\n",
    "        break\n",
    "        print(i)\n",
    "print('Finished!')"
   ]
  },
  {
   "source": [
    "#### summing numbers in a list using a for loop"
   ],
   "cell_type": "markdown",
   "metadata": {}
  },
  {
   "cell_type": "code",
   "execution_count": 37,
   "metadata": {},
   "outputs": [
    {
     "output_type": "stream",
     "name": "stdout",
     "text": [
      "6\n"
     ]
    }
   ],
   "source": [
    "# Method 1\n",
    "list = [i for i in range(4)]\n",
    "list_sum = 0\n",
    "for i in list:\n",
    "    list_sum += i\n",
    "print(list_sum) # 6"
   ]
  },
  {
   "cell_type": "code",
   "execution_count": 36,
   "metadata": {},
   "outputs": [
    {
     "output_type": "stream",
     "name": "stdout",
     "text": [
      "6\n"
     ]
    }
   ],
   "source": [
    "# Method 2\n",
    "list = [i for i in range(4)]\n",
    "sum_list = 0\n",
    "k = 0\n",
    "while k < len(list):\n",
    "    sum_list += k\n",
    "    k += 1\n",
    "print(sum_list) # 3"
   ]
  },
  {
   "source": [
    "## Challenge Question 1\n",
    "what is the last number printed after executing the following code?"
   ],
   "cell_type": "markdown",
   "metadata": {}
  },
  {
   "cell_type": "code",
   "execution_count": 38,
   "metadata": {},
   "outputs": [
    {
     "output_type": "stream",
     "name": "stdout",
     "text": [
      "4\n8\n12\n"
     ]
    }
   ],
   "source": [
    "a = 0\n",
    "while a <= 10:\n",
    "    a = a + 2\n",
    "    if (a % 4 == 0):\n",
    "        print(a)"
   ]
  },
  {
   "cell_type": "code",
   "execution_count": 39,
   "metadata": {},
   "outputs": [
    {
     "output_type": "stream",
     "name": "stdout",
     "text": [
      "0\n1\n2\n3\n4\ngo\n"
     ]
    }
   ],
   "source": [
    "i = 0\n",
    "while 1 == 1:\n",
    "    print(i)\n",
    "    i += 1\n",
    "    if i >=5:\n",
    "        print('go')\n",
    "        break   "
   ]
  },
  {
   "source": [
    "## Challenge Question 2\n",
    "find the sum of _positive_/_negative_ numbers in the below list using a while loop"
   ],
   "cell_type": "markdown",
   "metadata": {}
  },
  {
   "cell_type": "code",
   "execution_count": 40,
   "metadata": {},
   "outputs": [
    {
     "output_type": "stream",
     "name": "stdout",
     "text": [
      "17\n"
     ]
    }
   ],
   "source": [
    "given_list = [5, 4, 4, 3, 1, -2, -3, -5]\n",
    "total3 = 0\n",
    "i = 0\n",
    "while given_list[i] > 0:\n",
    "    total3 += given_list[i]\n",
    "    i += 1\n",
    "print(total3)"
   ]
  },
  {
   "cell_type": "code",
   "execution_count": 41,
   "metadata": {},
   "outputs": [
    {
     "output_type": "stream",
     "name": "stdout",
     "text": [
      "-17\n"
     ]
    }
   ],
   "source": [
    "## find the sum of negative numbers\n",
    "given_list3 = [7, 5, 4, 4, 3, 1, -2, -3, -5, -7]\n",
    "total = 0\n",
    "for i in given_list3:\n",
    "    if i < 0:\n",
    "        total += i\n",
    "print(total)"
   ]
  },
  {
   "source": [
    "## for Loops\n",
    "Another __iterative__ structure, the __for__ statement, can be used in conjuction with many of the Python collections. The __for__ statement can be used to iterate over the members of a collection, so long as the collection is a __sequence__:"
   ],
   "cell_type": "markdown",
   "metadata": {}
  },
  {
   "source": [
    "#### Example 1: "
   ],
   "cell_type": "markdown",
   "metadata": {}
  },
  {
   "cell_type": "code",
   "execution_count": 7,
   "metadata": {},
   "outputs": [
    {
     "output_type": "stream",
     "name": "stdout",
     "text": [
      "1\n4\n7\n9\n"
     ]
    }
   ],
   "source": [
    "for item in [1, 4, 7, 9]:\n",
    "    # The code assign the variable item to each successive value in the list [1, 4, 7, 9]. The body of the iteration is then executed.\n",
    "    # Note: This works for any collection that is a sequence (list, tuples, strings)\n",
    "    print(item)"
   ]
  },
  {
   "source": [
    "A common use of the __for__ statement is to implement definite iteration over a range of values."
   ],
   "cell_type": "markdown",
   "metadata": {}
  },
  {
   "cell_type": "code",
   "execution_count": 42,
   "metadata": {},
   "outputs": [
    {
     "output_type": "stream",
     "name": "stdout",
     "text": [
      "0\n1\n4\n9\n16\n25\n36\n49\n64\n81\n"
     ]
    }
   ],
   "source": [
    "for item in range(10):\n",
    "    print(item**2)"
   ]
  },
  {
   "source": [
    "#### Example 2: Processing characters of a string\n",
    "The other very useful version of this iteration structure is used to _process each character of a string_."
   ],
   "cell_type": "markdown",
   "metadata": {}
  },
  {
   "cell_type": "code",
   "execution_count": 9,
   "metadata": {},
   "outputs": [
    {
     "output_type": "stream",
     "name": "stdout",
     "text": [
      "['R', 'o', 'd', 'g', 'e', 'r', 's', 'O', 'm', 'o', 'n', 'd', 'i', 'N', 'y', 'a', 'n', 'g', 'w', 'e', 's', 'o']\n"
     ]
    }
   ],
   "source": [
    "word_list = ['Rodgers', 'Omondi', 'Nyangweso']\n",
    "letter_list = []\n",
    "for word in word_list:\n",
    "    for letter in word:\n",
    "        letter_list.append(letter)\n",
    "print(letter_list); \n",
    "# The above code fragment iterates over a list of strings and for each string process each character by appending it to a list. \n",
    "# The result is a list of all letters in all of the words:  "
   ]
  },
  {
   "source": [
    "__Selection__ statements allow programmers to ask questions and then, based on the result, perform different actions."
   ],
   "cell_type": "markdown",
   "metadata": {}
  },
  {
   "cell_type": "code",
   "execution_count": 10,
   "metadata": {},
   "outputs": [
    {
     "output_type": "stream",
     "name": "stdout",
     "text": [
      "F\nB\nF\nF\nA\nF\nF\n"
     ]
    }
   ],
   "source": [
    "scores = [19, 89, 45, 23, 90, 27, 30]\n",
    "\n",
    "for score in scores:\n",
    "    if score >= 90:\n",
    "        print('A')\n",
    "    else:\n",
    "        if score >= 80:\n",
    "            print('B')\n",
    "        else:\n",
    "            if score >= 70:\n",
    "                print('C')\n",
    "            else:\n",
    "                if score >= 60:\n",
    "                    print('D')\n",
    "                else:\n",
    "                    print('F')"
   ]
  },
  {
   "source": [
    "#### Alternatively,"
   ],
   "cell_type": "markdown",
   "metadata": {}
  },
  {
   "cell_type": "code",
   "execution_count": 12,
   "metadata": {},
   "outputs": [
    {
     "output_type": "stream",
     "name": "stdout",
     "text": [
      "F\n"
     ]
    }
   ],
   "source": [
    "scores = [19, 89, 45, 23, 90, 27, 30]\n",
    "if score >= 90:\n",
    "    print('A')\n",
    "elif score >= 80:\n",
    "    print('B')\n",
    "elif score >= 70:\n",
    "    print('C')\n",
    "elif score >= 60:\n",
    "    print('D')\n",
    "else:\n",
    "    print('F')"
   ]
  },
  {
   "source": [
    "## if statement\n",
    "Python also has a single way selection construct, the __if__ statement. With this statement, __if the condition is true, an action is performed__. In the case where the condition is false, processing simply continues on to the next statement after the __if__ statement.\n",
    "\n",
    "__For example:__ _The following fragment will first check to see if the value of a variable _n_ is negative. If it is, then it's modified by the __absolute__ value function. Regardless, the next action is to compute the square root._"
   ],
   "cell_type": "markdown",
   "metadata": {}
  },
  {
   "cell_type": "code",
   "execution_count": 13,
   "metadata": {},
   "outputs": [
    {
     "output_type": "stream",
     "name": "stdout",
     "text": [
      "3.0\n"
     ]
    }
   ],
   "source": [
    "import math\n",
    "n = -9\n",
    "if n < 0:\n",
    "    n = abs(n)\n",
    "print(math.sqrt(n))"
   ]
  },
  {
   "source": [
    "## lists comprehension\n",
    "There is an alternative method for creating a list that uses __iteration__ and __selection__ constructs known as __list comprehension__ - it allows you to easily create a list based on some processing or selection criteria.\n",
    "\n",
    "_For example:_ creating a list of the first 10 perfect squares, we could use the __for__ statement"
   ],
   "cell_type": "markdown",
   "metadata": {}
  },
  {
   "cell_type": "code",
   "execution_count": 14,
   "metadata": {},
   "outputs": [
    {
     "output_type": "stream",
     "name": "stdout",
     "text": [
      "[1, 4, 9, 16, 25, 36, 49, 64, 81, 100]\n"
     ]
    }
   ],
   "source": [
    "# perfect squares\n",
    "square_list = []\n",
    "for x in range(1, 11):\n",
    "    square_list.append(x*x)\n",
    "print(square_list)"
   ]
  },
  {
   "source": [
    "Using a __list comprehension__, we can do this in one step:"
   ],
   "cell_type": "markdown",
   "metadata": {}
  },
  {
   "cell_type": "code",
   "execution_count": 15,
   "metadata": {},
   "outputs": [
    {
     "output_type": "stream",
     "name": "stdout",
     "text": [
      "[1, 4, 9, 16, 25, 36, 49, 64, 81, 100]\n"
     ]
    }
   ],
   "source": [
    "square_list = [x*x for x in range(1, 11)]\n",
    "print(square_list)"
   ]
  },
  {
   "source": [
    "__Remark:__ The general synatx for a _list comprehension_ also allows a selection criteria be added so that only certain items are added:"
   ],
   "cell_type": "markdown",
   "metadata": {}
  },
  {
   "cell_type": "code",
   "execution_count": 16,
   "metadata": {},
   "outputs": [
    {
     "output_type": "stream",
     "name": "stdout",
     "text": [
      "[1, 9, 25, 49, 81]\n"
     ]
    }
   ],
   "source": [
    "# a sequence of odd numbers\n",
    "\n",
    "square_list = [x*x for x in range(1, 11) if x%2 !=0]\n",
    "print(square_list)"
   ]
  },
  {
   "source": [
    "Any sequence that supports iteration can be used within a list comprehension to construct a new list:"
   ],
   "cell_type": "markdown",
   "metadata": {}
  },
  {
   "cell_type": "code",
   "execution_count": 17,
   "metadata": {},
   "outputs": [
    {
     "output_type": "execute_result",
     "data": {
      "text/plain": [
       "['C', 'M', 'P', 'R', 'H', 'N', 'S', 'N']"
      ]
     },
     "metadata": {},
     "execution_count": 17
    }
   ],
   "source": [
    "[ch.upper() for ch in 'comprehension' if ch not in 'aeiou']"
   ]
  },
  {
   "source": [
    "## Challenge Question 1\n",
    "compute the sum of all multiples of 3 and 5 that are less than 5"
   ],
   "cell_type": "markdown",
   "metadata": {}
  },
  {
   "cell_type": "code",
   "execution_count": 24,
   "metadata": {},
   "outputs": [
    {
     "output_type": "stream",
     "name": "stdout",
     "text": [
      "2318\n"
     ]
    }
   ],
   "source": [
    "total = 0\n",
    "for i in range(1, 100):\n",
    "    if i % 3 == 0:\n",
    "        total += i\n",
    "    elif i % 5 == 0:\n",
    "        total += i\n",
    "        \n",
    "print(total) # 2318"
   ]
  },
  {
   "cell_type": "code",
   "execution_count": 27,
   "metadata": {},
   "outputs": [
    {
     "output_type": "stream",
     "name": "stdout",
     "text": [
      "2318\n"
     ]
    }
   ],
   "source": [
    "# alternatively:\n",
    "total = 0\n",
    "for i in range(1, 100):\n",
    "    if i % 3 == 0 or i % 5 == 0:\n",
    "        total += i\n",
    "print(total) # 2318"
   ]
  },
  {
   "cell_type": "code",
   "execution_count": 30,
   "metadata": {},
   "outputs": [
    {
     "output_type": "stream",
     "name": "stdout",
     "text": [
      "0\n2\n4\n6\n8\n10\n12\n14\n16\n18\n20\n"
     ]
    }
   ],
   "source": []
  },
  {
   "source": [
    "### Challenge Question 2\n",
    "find the sum of the negative numbers"
   ],
   "cell_type": "markdown",
   "metadata": {}
  },
  {
   "cell_type": "code",
   "execution_count": 29,
   "metadata": {},
   "outputs": [
    {
     "output_type": "stream",
     "name": "stdout",
     "text": [
      "-17\n"
     ]
    }
   ],
   "source": [
    "given_list = [7, 5, 4, 4, 3, 1, -2, -3, -5, -7]\n",
    "total = 0\n",
    "j = len(given_list) - 1\n",
    "while given_list[j] < 0:\n",
    "    total += given_list[j]\n",
    "    j -= 1\n",
    "print(total)"
   ]
  }
 ]
}