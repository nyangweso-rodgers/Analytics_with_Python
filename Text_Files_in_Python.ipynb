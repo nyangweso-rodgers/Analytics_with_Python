{
 "metadata": {
  "language_info": {
   "codemirror_mode": {
    "name": "ipython",
    "version": 3
   },
   "file_extension": ".py",
   "mimetype": "text/x-python",
   "name": "python",
   "nbconvert_exporter": "python",
   "pygments_lexer": "ipython3",
   "version": "3.8.8"
  },
  "orig_nbformat": 4,
  "kernelspec": {
   "name": "python3",
   "display_name": "Python 3.8.8 64-bit (conda)"
  },
  "interpreter": {
   "hash": "1e915f0a29dc84041eaeb02b7b1a21c440e37a87b61d44d5e84a515737dc82bc"
  }
 },
 "nbformat": 4,
 "nbformat_minor": 2,
 "cells": [
  {
   "source": [
    "## Working with Text Files in Python\n",
    "\n",
    "### Openning Files\n",
    "Python can be used to __read__ and __write__ the contents of files. Text files are easiest to manipulate. Before a file can be edited, it must be opened, using the __open__ function.\n",
    "```py\n",
    "my_file = open(\"filename.txt\")\n",
    "```\n",
    "The argument of the open function is the path to the file. If the file is in the current working directory, you can specify only its name.\n",
    "\n",
    "__close__ method is used to close a file once a file is opened and used.\n",
    "\n",
    "### Modes of openning files:\n",
    "\n",
    "<b>'r'</b> - read mode (default)\n",
    "\n",
    "<b>'w'</b> - write mode (rewritting the contents of the file)\n",
    "\n",
    "<b>'a'</b> - append mode (adding new content to the end of the file)\n",
    "\n",
    "<b>'b'</b> - binary mode (opens the file in a <b>binary</b> mode (used for non-text files e.g., image and sound files)\n",
    "\n",
    "<b>'rb'</b> - binary read mode\n",
    "\n",
    "<b>'wb'</b> - binary write mode"
   ],
   "cell_type": "markdown",
   "metadata": {}
  },
  {
   "source": [
    "### Reading Files"
   ],
   "cell_type": "markdown",
   "metadata": {}
  },
  {
   "cell_type": "code",
   "execution_count": 3,
   "metadata": {},
   "outputs": [
    {
     "output_type": "stream",
     "name": "stdout",
     "text": [
      "Opening Files\n// Python can be used to read and write the contents of files.\n// text files are the easiest to manipulate .\n// before a file can be edited, it must be opened, using the open functionThis line has been appended to this file using the append method\n"
     ]
    }
   ],
   "source": [
    "first_sample = open(\"sample_text_file_1.txt\", \"r\")\n",
    "# reading contents of the file\n",
    "print(first_sample.read())\n",
    "first_sample.close()"
   ]
  },
  {
   "source": [
    "__Remarks__: \n",
    "\n",
    "1. Just like passing no arguments, negative values will return the entire contents.\n",
    "2. After all contents in a file have been read, any attempt to read further from that file will return an empty string - because you are trying to read from the end of the file.\n",
    "3. To retrieve each line in a file, you can use the readlines method to return a list in which each element is a line in the file."
   ],
   "cell_type": "markdown",
   "metadata": {}
  },
  {
   "cell_type": "code",
   "execution_count": 4,
   "metadata": {},
   "outputs": [
    {
     "output_type": "stream",
     "name": "stdout",
     "text": [
      "['Opening Files\\n', '// Python can be used to read and write the contents of files.\\n', '// text files are the easiest to manipulate .\\n', '// before a file can be edited, it must be opened, using the open functionThis line has been appended to this file using the append method']\n<class '_io.TextIOWrapper'>\n"
     ]
    }
   ],
   "source": [
    "second_sample = open(\"sample_text_file_1.txt\", \"r\")\n",
    "print(second_sample.readlines())\n",
    "print(type(second_sample))\n",
    "\n",
    "second_sample.close()"
   ]
  },
  {
   "source": [
    "__Remark__:\n",
    "\n",
    "1. We can use a for loop to iterate through the lines in the file"
   ],
   "cell_type": "markdown",
   "metadata": {}
  },
  {
   "cell_type": "code",
   "execution_count": 6,
   "metadata": {},
   "outputs": [
    {
     "output_type": "stream",
     "name": "stdout",
     "text": [
      "Opening Files\n\n// Python can be used to read and write the contents of files.\n\n// text files are the easiest to manipulate .\n\n// before a file can be edited, it must be opened, using the open functionThis line has been appended to this file using the append method\n"
     ]
    }
   ],
   "source": [
    "third_sample = open(\"sample_text_file_1.txt\", \"r\")\n",
    "for line in third_sample:\n",
    "    print(line)\n",
    "third_sample.close()"
   ]
  },
  {
   "source": [
    "### Writing Files\n",
    "Use the write method to write a string to the file"
   ],
   "cell_type": "markdown",
   "metadata": {}
  },
  {
   "cell_type": "code",
   "execution_count": 10,
   "metadata": {},
   "outputs": [],
   "source": [
    "# The \"w\" mode will create a file, if it does not already exist.\n",
    "fourth_sample = open(\"sample_text_file_2.txt\", \"w\")\n",
    "fourth_sample.write(\"//Writing Files. This line has been written\")\n",
    "sample_text_file_2.close()"
   ]
  },
  {
   "cell_type": "code",
   "execution_count": 12,
   "metadata": {},
   "outputs": [
    {
     "output_type": "stream",
     "name": "stdout",
     "text": [
      "\nFinished!\n"
     ]
    }
   ],
   "source": [
    "fifth_sample = open(\"sample_text_file_2.txt\", \"r\")\n",
    "print(fifth_sample.read())\n",
    "print(\"Finished!\")\n",
    "fifth_sample.close()"
   ]
  },
  {
   "source": [
    "__Remark:__\n",
    "\n",
    "1. The \"w\" mode will create a file, if it does not already exist.\n",
    "2. When a file is opened in write mode, the file's existing content is deleted\n",
    "3. The write method returns the number of bytes written to a file, if successful."
   ],
   "cell_type": "markdown",
   "metadata": {}
  },
  {
   "cell_type": "code",
   "execution_count": 14,
   "metadata": {},
   "outputs": [
    {
     "output_type": "stream",
     "name": "stdout",
     "text": [
      "12\n"
     ]
    }
   ],
   "source": [
    "msg = \"hello world1\"\n",
    "sixth_sample = open(\"sample_text_file_3.txt\", \"w\")\n",
    "amount_written = sixth_sample.write(msg)\n",
    "print(amount_written)\n",
    "sixth_sample.close()"
   ]
  },
  {
   "source": [
    "__NOTE:__ To write something other than a string, it needs to be converted to a string first."
   ],
   "cell_type": "markdown",
   "metadata": {}
  },
  {
   "source": [
    "__REMARK:__ It's a good practice to avoid wating resources by making sure that files are always closed after they have been used. One way of doing this is to use __try__ and __finally__"
   ],
   "cell_type": "markdown",
   "metadata": {}
  },
  {
   "cell_type": "code",
   "execution_count": 17,
   "metadata": {},
   "outputs": [
    {
     "output_type": "stream",
     "name": "stdout",
     "text": [
      "Op\n"
     ]
    }
   ],
   "source": [
    "try:\n",
    "    seventh_sample = open(\"sample_text_file_1.txt\", \"r\")\n",
    "    print(seventh_sample.read(2)) # read first two letters\n",
    "finally:\n",
    "    seventh_sample.close() # This ensures that the file is always closed even if an error occurs."
   ]
  },
  {
   "source": [
    "__REMARK:__ An alternative way of doing this is using __with__ statement. _This creates a temporary variable, which is only accessible in the indented block of the with statement_."
   ],
   "cell_type": "markdown",
   "metadata": {}
  },
  {
   "cell_type": "code",
   "execution_count": 19,
   "metadata": {},
   "outputs": [
    {
     "output_type": "stream",
     "name": "stdout",
     "text": [
      "Opening Files\n// Python can be used to read and write the contents of files.\n// text files are the easiest to manipulate .\n// before a file can be edited, it must be opened, using the open functionThis line has been appended to this file using the append method\n"
     ]
    }
   ],
   "source": [
    "with open(\"sample_text_file_1.txt\") as eighth_sample:\n",
    "    print(eighth_sample.read()) # The file is automatically closed at the end of the with statement, even if exceptions occur with it."
   ]
  },
  {
   "source": [
    "__REMARK:__ We can set the mode to __append__ using a lowercase \"a\". This will not create a new file but just use the existing file. If we call the method write, it will just write to the existing file then add"
   ],
   "cell_type": "markdown",
   "metadata": {}
  },
  {
   "cell_type": "code",
   "execution_count": 21,
   "metadata": {},
   "outputs": [],
   "source": [
    "with open(\"sample_text_file_1.txt\", 'a') as ninth_sample:\n",
    "    ninth_sample.write('This line has been appended to this file using the append method')"
   ]
  },
  {
   "cell_type": "code",
   "execution_count": 22,
   "metadata": {},
   "outputs": [
    {
     "output_type": "stream",
     "name": "stdout",
     "text": [
      "Opening Files\n// Python can be used to read and write the contents of files.\n// text files are the easiest to manipulate .\n// before a file can be edited, it must be opened, using the open functionThis line has been appended to this file using the append methodThis line has been appended to this file using the append method\n"
     ]
    }
   ],
   "source": [
    "with open(\"sample_text_file_1.txt\", \"r\") as tenth_sample:\n",
    "    print(tenth_sample.read())"
   ]
  },
  {
   "cell_type": "code",
   "execution_count": null,
   "metadata": {},
   "outputs": [],
   "source": []
  }
 ]
}