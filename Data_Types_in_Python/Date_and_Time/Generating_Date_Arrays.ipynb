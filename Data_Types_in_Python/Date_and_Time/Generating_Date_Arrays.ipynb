{
 "metadata": {
  "language_info": {
   "codemirror_mode": {
    "name": "ipython",
    "version": 3
   },
   "file_extension": ".py",
   "mimetype": "text/x-python",
   "name": "python",
   "nbconvert_exporter": "python",
   "pygments_lexer": "ipython3",
   "version": "3.7.6"
  },
  "orig_nbformat": 2,
  "kernelspec": {
   "name": "python376jvsc74a57bd07001fcd93f074860687356353637fa8a9bcfae26351191961070d25d38eb8654",
   "display_name": "Python 3.7.6 64-bit ('base': conda)"
  }
 },
 "nbformat": 4,
 "nbformat_minor": 2,
 "cells": [
  {
   "cell_type": "code",
   "execution_count": 1,
   "metadata": {},
   "outputs": [],
   "source": [
    "import pandas as pd \n",
    "from datetime import datetime, timedelta\n",
    "import arrow"
   ]
  },
  {
   "cell_type": "code",
   "execution_count": 25,
   "metadata": {},
   "outputs": [
    {
     "output_type": "execute_result",
     "data": {
      "text/plain": [
       "          date  week_number week_start_date\n",
       "0   2020-01-01            1      2019-12-30\n",
       "1   2020-01-02            1      2019-12-30\n",
       "2   2020-01-03            1      2019-12-30\n",
       "3   2020-01-04            1      2019-12-30\n",
       "4   2020-01-05            1      2019-12-30\n",
       "..         ...          ...             ...\n",
       "481 2021-04-26           17      2021-04-26\n",
       "482 2021-04-27           17      2021-04-26\n",
       "483 2021-04-28           17      2021-04-26\n",
       "484 2021-04-29           17      2021-04-26\n",
       "485 2021-04-30           17      2021-04-26\n",
       "\n",
       "[486 rows x 3 columns]"
      ],
      "text/html": "<div>\n<style scoped>\n    .dataframe tbody tr th:only-of-type {\n        vertical-align: middle;\n    }\n\n    .dataframe tbody tr th {\n        vertical-align: top;\n    }\n\n    .dataframe thead th {\n        text-align: right;\n    }\n</style>\n<table border=\"1\" class=\"dataframe\">\n  <thead>\n    <tr style=\"text-align: right;\">\n      <th></th>\n      <th>date</th>\n      <th>week_number</th>\n      <th>week_start_date</th>\n    </tr>\n  </thead>\n  <tbody>\n    <tr>\n      <th>0</th>\n      <td>2020-01-01</td>\n      <td>1</td>\n      <td>2019-12-30</td>\n    </tr>\n    <tr>\n      <th>1</th>\n      <td>2020-01-02</td>\n      <td>1</td>\n      <td>2019-12-30</td>\n    </tr>\n    <tr>\n      <th>2</th>\n      <td>2020-01-03</td>\n      <td>1</td>\n      <td>2019-12-30</td>\n    </tr>\n    <tr>\n      <th>3</th>\n      <td>2020-01-04</td>\n      <td>1</td>\n      <td>2019-12-30</td>\n    </tr>\n    <tr>\n      <th>4</th>\n      <td>2020-01-05</td>\n      <td>1</td>\n      <td>2019-12-30</td>\n    </tr>\n    <tr>\n      <th>...</th>\n      <td>...</td>\n      <td>...</td>\n      <td>...</td>\n    </tr>\n    <tr>\n      <th>481</th>\n      <td>2021-04-26</td>\n      <td>17</td>\n      <td>2021-04-26</td>\n    </tr>\n    <tr>\n      <th>482</th>\n      <td>2021-04-27</td>\n      <td>17</td>\n      <td>2021-04-26</td>\n    </tr>\n    <tr>\n      <th>483</th>\n      <td>2021-04-28</td>\n      <td>17</td>\n      <td>2021-04-26</td>\n    </tr>\n    <tr>\n      <th>484</th>\n      <td>2021-04-29</td>\n      <td>17</td>\n      <td>2021-04-26</td>\n    </tr>\n    <tr>\n      <th>485</th>\n      <td>2021-04-30</td>\n      <td>17</td>\n      <td>2021-04-26</td>\n    </tr>\n  </tbody>\n</table>\n<p>486 rows × 3 columns</p>\n</div>"
     },
     "metadata": {},
     "execution_count": 25
    }
   ],
   "source": [
    "# generate date array\n",
    "date_list = pd.date_range(start=\"2020-01-01\", end=\"2021-04-30\").to_list()\n",
    "df = pd.DataFrame(date_list, columns=['date'])\n",
    "\n",
    "date_list = pd.date_range(start=\"2020-01-01\", end=\"2021-04-30\").to_list()\n",
    "df = pd.DataFrame(date_list, columns=['date'])\n",
    "# getting the week number\n",
    "df['week_number'] = df['date'].dt.isocalendar().week\n",
    "\n",
    "# Create function to calculate Start Week date\n",
    "week_start_date = lambda date: date - timedelta(days=date.weekday())\n",
    "# Apply above function on DataFrame column\n",
    "df['week_start_date'] = df['date'].apply(week_start_date)\n",
    "df"
   ]
  }
 ]
}