{
 "metadata": {
  "language_info": {
   "codemirror_mode": {
    "name": "ipython",
    "version": 3
   },
   "file_extension": ".py",
   "mimetype": "text/x-python",
   "name": "python",
   "nbconvert_exporter": "python",
   "pygments_lexer": "ipython3",
   "version": "3.7.6"
  },
  "orig_nbformat": 2,
  "kernelspec": {
   "name": "python376jvsc74a57bd07001fcd93f074860687356353637fa8a9bcfae26351191961070d25d38eb8654",
   "display_name": "Python 3.7.6 64-bit ('base': conda)"
  }
 },
 "nbformat": 4,
 "nbformat_minor": 2,
 "cells": [
  {
   "source": [
    "# Object Oriented Programming in Python\n",
    "__Object-oriented programming__ (OOP) is a method of structuring a program by bundling related _properties_ and _behaviors_ into individual __objects__.\n",
    "\n",
    "__Examples__: \n",
    "- _an object could represent a person with properties like a name, age, and address and behaviors such as walking, talking, breathing, and running._ \n",
    "- _Or it could represent an email with properties like a recipient list, subject, and body and behaviors like adding attachments and sending._"
   ],
   "cell_type": "markdown",
   "metadata": {}
  },
  {
   "source": [
    "## Define a Class in Python\n",
    "__Primitive data structures__—like _numbers_, _strings_, and _lists_—are designed to represent simple pieces of information, such as the cost of an apple, the name of a poem, or your favorite colors, respectively. What if you want to represent something more complex?\n",
    "\n",
    "For example, let’s say you want to track employees in an organization. You need to store some basic information about each employee, such as their name, age, position, and the year they started working.\n",
    "\n",
    "### Classes vs Instances\n",
    "__Classes__ are used to create user-defined data structures. Classes define functions called __methods__, which identify the behaviors and actions that an object created from the class can perform with its data. A __class__ is a _blueprint for how something should be defined. It doesn’t actually contain any data._\n",
    "\n",
    "While the __class__ is the _blueprint_, an __instance__ is an object that is built from a class and contains real data. "
   ],
   "cell_type": "markdown",
   "metadata": {}
  },
  {
   "source": [
    "#### Example 1: create a Dog class that stores some information about the characteristics and behaviors that an individual dog can have."
   ],
   "cell_type": "markdown",
   "metadata": {}
  },
  {
   "cell_type": "code",
   "execution_count": 5,
   "metadata": {},
   "outputs": [],
   "source": [
    "# Dog class specifies that a name and an age are necessary for defining a dog, but it doesn’t contain the name or age of any specific dog.\n",
    "# This creates a new Dog class with no attributes or methods.\n",
    "class Dog:\n",
    "    pass\n",
    "\n",
    "# The body of the Dog class consists of a single statement: the pass keyword. \n",
    "# pass is often used as a placeholder indicating where code will eventually go. \n",
    "# It allows you to run this code without Python throwing an error."
   ]
  },
  {
   "source": [
    "The Dog class isn’t very interesting right now, so let’s spruce it up a bit by defining some properties that all Dog objects should have. There are a number of properties that we can choose from, including name, age, coat color, and breed. "
   ],
   "cell_type": "markdown",
   "metadata": {}
  },
  {
   "cell_type": "code",
   "execution_count": null,
   "metadata": {},
   "outputs": [],
   "source": [
    "class Dog:\n",
    "    def __init__(self, name, age): # .__init__() initializes each new instance of the class.\n",
    "        self.name = name # creates an attribute called name and assigns to it the value of the name parameter.\n",
    "        self.age = age #  creates an attribute called age and assigns to it the value of the age parameter."
   ]
  },
  {
   "source": [
    "An __instance attribute’s__ value is specific to a particular instance of the class. All Dog objects have a name and an age, but the values for the name and age attributes will vary depending on the Dog instance.\n",
    "\n",
    "__class attributes__ are attributes that have the same value for all class instances. \n",
    "\n",
    "__For example__, the following Dog class has a __class attribute__ called _species_ with the value \"Canis familiaris\":"
   ],
   "cell_type": "markdown",
   "metadata": {}
  },
  {
   "cell_type": "code",
   "execution_count": 4,
   "metadata": {},
   "outputs": [],
   "source": [
    "class Dog:\n",
    "    # class attribute\n",
    "    species = 'Canis familiaris'\n",
    "\n",
    "    def __init__(self, name, age):\n",
    "        self.name = name\n",
    "        self.age = age"
   ]
  },
  {
   "source": [
    "Use __class attributes__ to _define properties that should have the same value for every class instance_. Use __instance attributes__ for _properties that vary from one instance to another_."
   ],
   "cell_type": "markdown",
   "metadata": {}
  },
  {
   "source": [
    "### Instantiate an Object in Python\n",
    "_Creating a new object from a class_ is called __instantiating an object__. You can instantiate a new Dog object by typing the name of the class, followed by opening and closing parentheses:"
   ],
   "cell_type": "markdown",
   "metadata": {}
  },
  {
   "cell_type": "code",
   "execution_count": 6,
   "metadata": {},
   "outputs": [
    {
     "output_type": "execute_result",
     "data": {
      "text/plain": [
       "<__main__.Dog at 0x2ad3dc0d3c8>"
      ]
     },
     "metadata": {},
     "execution_count": 6
    }
   ],
   "source": [
    "class Dog():\n",
    "    pass\n",
    "Dog()"
   ]
  },
  {
   "source": [
    "You now have a new Dog object at 0x2ad3dc0d3c8. This funny-looking string of letters and numbers is a memory address that indicates where the Dog object is stored in your computer’s memory.\n",
    "\n",
    "Now instantiate a second Dog object:"
   ],
   "cell_type": "markdown",
   "metadata": {}
  },
  {
   "cell_type": "code",
   "execution_count": 7,
   "metadata": {},
   "outputs": [
    {
     "output_type": "execute_result",
     "data": {
      "text/plain": [
       "<__main__.Dog at 0x2ad3dc67388>"
      ]
     },
     "metadata": {},
     "execution_count": 7
    }
   ],
   "source": [
    "Dog()"
   ]
  },
  {
   "source": [
    "The new Dog instance is located at a different memory address. That’s because it’s an entirely new instance and is completely unique from the first Dog object that you instantiated."
   ],
   "cell_type": "markdown",
   "metadata": {}
  },
  {
   "cell_type": "code",
   "execution_count": 10,
   "metadata": {},
   "outputs": [
    {
     "output_type": "execute_result",
     "data": {
      "text/plain": [
       "False"
      ]
     },
     "metadata": {},
     "execution_count": 10
    }
   ],
   "source": [
    "# To see this another way, type the following:\n",
    "'''\n",
    "- In the below code, you create two new Dog objects and assign them to the variables a and b. \n",
    "- When you compare a and b using the == operator, the result is False. \n",
    "- Even though a and b are both instances of the Dog class, they represent two distinct objects in memory.\n",
    "'''\n",
    "a = Dog()\n",
    "b = Dog()\n",
    "a == b"
   ]
  },
  {
   "source": [
    "### Example 2\n",
    "### Class and Instance Attributes\n",
    "Now create a new Dog class with a class attribute called .species and two instance attributes called .name and .age:"
   ],
   "cell_type": "markdown",
   "metadata": {}
  },
  {
   "cell_type": "code",
   "execution_count": 12,
   "metadata": {},
   "outputs": [],
   "source": [
    "class Dog:\n",
    "    # class attribute\n",
    "    species = 'Canis familiaris'\n",
    "    \n",
    "    def __init__(self, name, age):\n",
    "        self.name = name\n",
    "        self.age = age"
   ]
  },
  {
   "source": [
    "To instantiate objects of this Dog class, you need to provide values for the name and age. If you don’t, then Python raises a TypeError:"
   ],
   "cell_type": "markdown",
   "metadata": {}
  },
  {
   "cell_type": "code",
   "execution_count": 13,
   "metadata": {},
   "outputs": [
    {
     "output_type": "error",
     "ename": "TypeError",
     "evalue": "__init__() missing 2 required positional arguments: 'name' and 'age'",
     "traceback": [
      "\u001b[1;31m---------------------------------------------------------------------------\u001b[0m",
      "\u001b[1;31mTypeError\u001b[0m                                 Traceback (most recent call last)",
      "\u001b[1;32m<ipython-input-13-2dced99f65a6>\u001b[0m in \u001b[0;36m<module>\u001b[1;34m\u001b[0m\n\u001b[1;32m----> 1\u001b[1;33m \u001b[0mDog\u001b[0m\u001b[1;33m(\u001b[0m\u001b[1;33m)\u001b[0m\u001b[1;33m\u001b[0m\u001b[1;33m\u001b[0m\u001b[0m\n\u001b[0m",
      "\u001b[1;31mTypeError\u001b[0m: __init__() missing 2 required positional arguments: 'name' and 'age'"
     ]
    }
   ],
   "source": [
    "Dog()"
   ]
  },
  {
   "source": [
    "To pass arguments to the name and age parameters, put values into the parentheses after the class name:"
   ],
   "cell_type": "markdown",
   "metadata": {}
  },
  {
   "cell_type": "code",
   "execution_count": 15,
   "metadata": {},
   "outputs": [],
   "source": [
    "'''\n",
    "These creates two new Dog instances—one for a three-year-old dog named buddy and one for a four-year-old dog named Miles.\n",
    "'''\n",
    "buddy = Dog('buddy', 3)\n",
    "Miles = Dog('neo', 4)"
   ]
  },
  {
   "source": [
    "After you create the Dog instances, you can access their instance attributes using dot notation:"
   ],
   "cell_type": "markdown",
   "metadata": {}
  },
  {
   "cell_type": "code",
   "execution_count": 17,
   "metadata": {},
   "outputs": [
    {
     "output_type": "stream",
     "name": "stdout",
     "text": [
      "buddy\n3\n"
     ]
    }
   ],
   "source": [
    "print(buddy.name)\n",
    "print(buddy.age)"
   ]
  },
  {
   "cell_type": "code",
   "execution_count": 18,
   "metadata": {},
   "outputs": [
    {
     "output_type": "execute_result",
     "data": {
      "text/plain": [
       "'Canis familiaris'"
      ]
     },
     "metadata": {},
     "execution_count": 18
    }
   ],
   "source": [
    "# You can access class attributes the same way:\n",
    "buddy.species"
   ]
  },
  {
   "source": [
    "One of the biggest advantages of using __classes__ to organize data is that _instances are guaranteed to have the attributes you expect_. All Dog instances have .species, .name, and .age attributes, so you can use those attributes with confidence knowing that they will always return a value.\n",
    "\n",
    "Although the attributes are guaranteed to exist, their values can be changed dynamically:"
   ],
   "cell_type": "markdown",
   "metadata": {}
  },
  {
   "cell_type": "code",
   "execution_count": 23,
   "metadata": {},
   "outputs": [
    {
     "output_type": "execute_result",
     "data": {
      "text/plain": [
       "10"
      ]
     },
     "metadata": {},
     "execution_count": 23
    }
   ],
   "source": [
    "# change the .age attribute of the buddy object to 10\n",
    "buddy.age = 10\n",
    "buddy.age"
   ]
  },
  {
   "cell_type": "code",
   "execution_count": 24,
   "metadata": {},
   "outputs": [
    {
     "output_type": "execute_result",
     "data": {
      "text/plain": [
       "'Felis silvestris'"
      ]
     },
     "metadata": {},
     "execution_count": 24
    }
   ],
   "source": [
    "# change the .species attribute of the miles object to \"Felis silvestris\", which is a species of cat. That makes Miles a pretty strange dog, but it is valid Python!\n",
    "Miles.species = \"Felis silvestris\"\n",
    "Miles.species"
   ]
  },
  {
   "source": [
    "__Remark__: _The key takeaway here is that custom objects are mutable by default. An object is mutable if it can be altered dynamically. For example, lists and dictionaries are mutable, but strings and tuples are immutable._"
   ],
   "cell_type": "markdown",
   "metadata": {}
  },
  {
   "source": [
    "## Instance Methods\n",
    "__Instance methods__ are _functions that are defined inside a class and can only be called from an instance of that class_."
   ],
   "cell_type": "markdown",
   "metadata": {}
  },
  {
   "cell_type": "code",
   "execution_count": 25,
   "metadata": {},
   "outputs": [],
   "source": [
    "class Dog:\n",
    "    # class attribute\n",
    "    species = 'Canis familiaris'\n",
    "\n",
    "    def __init__(self, name, age):\n",
    "        self.name = name\n",
    "        self.age = age\n",
    "\n",
    "    # Instance method\n",
    "    def description(self): # .description() returns a string displaying the name and age of the dog.\n",
    "        return f\"{self.name} is {self.age} years old\"\n",
    "\n",
    "    # # Another instance method\n",
    "    def speak(self, sound):\n",
    "        return f\"{self.name} says {sound}\" # .speak() has one parameter called sound and returns a string containing the dog’s name and the sound the dog makes."
   ]
  },
  {
   "cell_type": "code",
   "execution_count": 27,
   "metadata": {},
   "outputs": [
    {
     "output_type": "execute_result",
     "data": {
      "text/plain": [
       "'Miles is 4 years old'"
      ]
     },
     "metadata": {},
     "execution_count": 27
    }
   ],
   "source": [
    "miles = Dog(\"Miles\", 4)\n",
    "# .description() returns a string containing information about the Dog instance miles.\n",
    "miles.description()"
   ]
  },
  {
   "cell_type": "code",
   "execution_count": 28,
   "metadata": {},
   "outputs": [
    {
     "output_type": "execute_result",
     "data": {
      "text/plain": [
       "'Miles says Woof Woof'"
      ]
     },
     "metadata": {},
     "execution_count": 28
    }
   ],
   "source": [
    "miles.speak(\"Woof Woof\")"
   ]
  },
  {
   "cell_type": "code",
   "execution_count": 29,
   "metadata": {},
   "outputs": [
    {
     "output_type": "execute_result",
     "data": {
      "text/plain": [
       "'Miles says Bow Wow'"
      ]
     },
     "metadata": {},
     "execution_count": 29
    }
   ],
   "source": [
    "miles.speak(\"Bow Wow\")"
   ]
  },
  {
   "source": [
    "Let’s see what happens when you print() the miles object:"
   ],
   "cell_type": "markdown",
   "metadata": {}
  },
  {
   "cell_type": "code",
   "execution_count": 30,
   "metadata": {},
   "outputs": [
    {
     "output_type": "stream",
     "name": "stdout",
     "text": [
      "<__main__.Dog object at 0x000002AD3DC4E188>\n"
     ]
    }
   ],
   "source": [
    "print(miles)"
   ]
  },
  {
   "source": [
    "When you __print(miles)__, you get a cryptic looking message telling you that miles is a Dog object at the memory address 0x000002AD3DC4E188. This message isn’t very helpful. You can change what gets printed by defining a special instance method called .__str__()."
   ],
   "cell_type": "markdown",
   "metadata": {}
  },
  {
   "cell_type": "code",
   "execution_count": 32,
   "metadata": {},
   "outputs": [
    {
     "output_type": "stream",
     "name": "stdout",
     "text": [
      "Miles is 4 years old\n"
     ]
    }
   ],
   "source": [
    "class Dog:\n",
    "    # class attribute\n",
    "    species = 'Canis familiaris'\n",
    "\n",
    "    def __init__(self, name, age):\n",
    "        self.name = name\n",
    "        self.age = age\n",
    "\n",
    "    # Instance method\n",
    "    # Replace .description() with __str__()\n",
    "    def __str__(self): # .description() returns a string displaying the name and age of the dog.\n",
    "        return f\"{self.name} is {self.age} years old\"\n",
    "\n",
    "miles = Dog('Miles', 4)\n",
    "print(miles)"
   ]
  },
  {
   "source": [
    "__Methods__ like .__init__() and .__str__() are called __dunder methods__ because they begin and end with double underscores. There are many dunder methods that you can use to customize classes in Python."
   ],
   "cell_type": "markdown",
   "metadata": {}
  },
  {
   "source": [
    "## Inherit From Other Classes in Python\n",
    "__Inheritance__ is the process by which one class takes on the attributes and methods of another. Newly formed classes are called __child classes__, and the classes that child classes are derived from are called __parent classes__.\n",
    "\n",
    "__Child classes__ can override or extend the attributes and methods of __parent classes__. In other words, child classes inherit all of the parent’s attributes and methods but can also specify attributes and methods that are unique to themselves."
   ],
   "cell_type": "markdown",
   "metadata": {}
  },
  {
   "source": [
    "### Example 3: Dog Park Example\n",
    "The previous __Dog class__ can distinguish dogs by __name__ and __age__ but not by __breed__."
   ],
   "cell_type": "markdown",
   "metadata": {}
  },
  {
   "cell_type": "code",
   "execution_count": 37,
   "metadata": {},
   "outputs": [],
   "source": [
    "# You could modify the Dog class in the editor window by adding a .breed attribute:\n",
    "class Dog:\n",
    "    # class atrribute\n",
    "    species = 'Canis familiaris'\n",
    "\n",
    "    def __init__(self, name, age, breed):\n",
    "        self.name = name\n",
    "        self.age = age\n",
    "        self.breed = breed\n",
    "\n",
    "    def speak(self, sound):\n",
    "        return f\"{self.name} says {sound}\""
   ]
  },
  {
   "source": [
    "Now you can model the dog park by instantiating a bunch of different dogs in the interactive window:"
   ],
   "cell_type": "markdown",
   "metadata": {}
  },
  {
   "cell_type": "code",
   "execution_count": 38,
   "metadata": {},
   "outputs": [],
   "source": [
    "miles = Dog(\"Miles\", 4, \"Jack Russell Terrier\")\n",
    "buddy = Dog(\"Buddy\", 9, \"Dachshund\")\n",
    "jack = Dog(\"Jack\", 3, \"Bulldog\")\n",
    "jim = Dog(\"Jim\", 5, \"Bulldog\")"
   ]
  },
  {
   "source": [
    "Each __breed__ of dog has slightly different behaviors. For example, bulldogs have a low bark that sounds like _woof_, but dachshunds have a higher-pitched bark that sounds more like _yap_.\n",
    "\n",
    "Using just the Dog class, you must supply a string for the sound argument of .speak() every time you call it on a Dog instance:"
   ],
   "cell_type": "markdown",
   "metadata": {}
  },
  {
   "cell_type": "code",
   "execution_count": 40,
   "metadata": {},
   "outputs": [
    {
     "output_type": "execute_result",
     "data": {
      "text/plain": [
       "'Buddy says Yap'"
      ]
     },
     "metadata": {},
     "execution_count": 40
    }
   ],
   "source": [
    "buddy.speak('Yap')"
   ]
  },
  {
   "cell_type": "code",
   "execution_count": 41,
   "metadata": {},
   "outputs": [
    {
     "output_type": "execute_result",
     "data": {
      "text/plain": [
       "'Jim says Woof'"
      ]
     },
     "metadata": {},
     "execution_count": 41
    }
   ],
   "source": [
    "jim.speak('Woof')"
   ]
  },
  {
   "cell_type": "code",
   "execution_count": 42,
   "metadata": {},
   "outputs": [
    {
     "output_type": "execute_result",
     "data": {
      "text/plain": [
       "'Jack says Woof'"
      ]
     },
     "metadata": {},
     "execution_count": 42
    }
   ],
   "source": [
    "jack.speak('Woof')"
   ]
  },
  {
   "source": [
    "Passing a string to every call to __.speak()__ is repetitive and inconvenient. Moreover, the string representing the sound that each Dog instance makes should be determined by its __.breed__ attribute, but here you have to manually pass the correct string to __.speak()__ every time it’s called.\n",
    "\n",
    "You can simplify the experience of working with the Dog class by creating a child class for each breed of dog. This allows you to extend the functionality that each child class inherits, including specifying a default argument for __.speak()__."
   ],
   "cell_type": "markdown",
   "metadata": {}
  },
  {
   "source": [
    "### Parent Classes vs Child Classes\n",
    "Let’s create a __child class__ for each of the three breeds mentioned above: \n",
    "- Jack Russell Terrier, \n",
    "- Dachshund, and \n",
    "- Bulldog"
   ],
   "cell_type": "markdown",
   "metadata": {}
  },
  {
   "cell_type": "code",
   "execution_count": 43,
   "metadata": {},
   "outputs": [],
   "source": [
    "class Dog:\n",
    "    species = \"Canis familiaris\"\n",
    "\n",
    "    def __init__(self, name, age):\n",
    "        self.name = name\n",
    "        self.age = age\n",
    "\n",
    "    def __str__(self):\n",
    "        return f\"{self.name} is {self.age} years old\"\n",
    "\n",
    "    def speak(self, sound):\n",
    "        return f\"{self.name} says {sound}\""
   ]
  },
  {
   "source": [
    "__Remember__, to create a __child class__, you _create new class with its own name and then put the name of the parent class in parentheses_."
   ],
   "cell_type": "markdown",
   "metadata": {}
  },
  {
   "cell_type": "code",
   "execution_count": 44,
   "metadata": {},
   "outputs": [],
   "source": [
    "class JackRussellTerrier(Dog):\n",
    "    pass\n",
    "\n",
    "class Dachshund(Dog):\n",
    "    pass\n",
    "\n",
    "class Bulldog(Dog):\n",
    "    pass"
   ]
  },
  {
   "cell_type": "code",
   "execution_count": 45,
   "metadata": {},
   "outputs": [],
   "source": [
    "# you can now instantiate some dogs of specific breeds in the interactive window:\n",
    "miles = JackRussellTerrier(\"Miles\", 4)\n",
    "buddy = Dachshund(\"Buddy\", 9)\n",
    "jack = Bulldog(\"Jack\", 3)\n",
    "jim = Bulldog(\"Jim\", 5)"
   ]
  },
  {
   "cell_type": "code",
   "execution_count": 46,
   "metadata": {},
   "outputs": [
    {
     "output_type": "execute_result",
     "data": {
      "text/plain": [
       "'Canis familiaris'"
      ]
     },
     "metadata": {},
     "execution_count": 46
    }
   ],
   "source": [
    "miles.species"
   ]
  },
  {
   "cell_type": "code",
   "execution_count": 47,
   "metadata": {},
   "outputs": [
    {
     "output_type": "execute_result",
     "data": {
      "text/plain": [
       "'Buddy'"
      ]
     },
     "metadata": {},
     "execution_count": 47
    }
   ],
   "source": [
    "buddy.name"
   ]
  },
  {
   "cell_type": "code",
   "execution_count": 48,
   "metadata": {},
   "outputs": [
    {
     "output_type": "stream",
     "name": "stdout",
     "text": [
      "Jack is 3 years old\n"
     ]
    }
   ],
   "source": [
    "print(jack)"
   ]
  },
  {
   "cell_type": "code",
   "execution_count": 51,
   "metadata": {},
   "outputs": [
    {
     "output_type": "execute_result",
     "data": {
      "text/plain": [
       "'Jim says Woof'"
      ]
     },
     "metadata": {},
     "execution_count": 51
    }
   ],
   "source": [
    "jim.speak('Woof')"
   ]
  },
  {
   "source": [
    "To determine which __class__ a given object belongs to, you can use the built-in type():"
   ],
   "cell_type": "markdown",
   "metadata": {}
  },
  {
   "cell_type": "code",
   "execution_count": 55,
   "metadata": {},
   "outputs": [
    {
     "output_type": "execute_result",
     "data": {
      "text/plain": [
       "__main__.JackRussellTerrier"
      ]
     },
     "metadata": {},
     "execution_count": 55
    }
   ],
   "source": [
    "type(miles)"
   ]
  },
  {
   "source": [
    "What if you want to determine if miles is also an instance of the Dog class? You can do this with the built-in __isinstance()__:"
   ],
   "cell_type": "markdown",
   "metadata": {}
  },
  {
   "cell_type": "code",
   "execution_count": 56,
   "metadata": {},
   "outputs": [
    {
     "output_type": "execute_result",
     "data": {
      "text/plain": [
       "True"
      ]
     },
     "metadata": {},
     "execution_count": 56
    }
   ],
   "source": [
    "# Notice that isinstance() takes two arguments, an object and a class.\n",
    "isinstance(miles, Dog) # isinstance() checks if miles is an instance of the Dog class and returns True."
   ]
  },
  {
   "source": [
    "The __miles__, __buddy__, __jack__, and __jim__ objects are all __Dog instances__, but __miles__ is not a __Bulldog instance__, and jack is not a Dachshund instance:"
   ],
   "cell_type": "markdown",
   "metadata": {}
  },
  {
   "cell_type": "code",
   "execution_count": 57,
   "metadata": {},
   "outputs": [
    {
     "output_type": "execute_result",
     "data": {
      "text/plain": [
       "False"
      ]
     },
     "metadata": {},
     "execution_count": 57
    }
   ],
   "source": [
    "isinstance(miles, Bulldog)"
   ]
  },
  {
   "source": [
    "__Remark__: _More generally, all objects created from a child class are instances of the parent class, although they may not be instances of other child classes._"
   ],
   "cell_type": "markdown",
   "metadata": {}
  },
  {
   "source": [
    "### Extend the Functionality of a Parent Class\n",
    "Since different breeds of dogs have slightly different barks, you want to provide a default value for the sound argument of their respective __.speak()__ methods. To do this, you need to override __.speak()__ in the class definition for each breed.\n",
    "\n",
    "To override a method defined on the parent class, you define a method with the same name on the child class. Here’s what that looks like for the __JackRussellTerrier__ class:"
   ],
   "cell_type": "markdown",
   "metadata": {}
  },
  {
   "cell_type": "code",
   "execution_count": 58,
   "metadata": {},
   "outputs": [],
   "source": [
    "class JackRussellTerrier(Dog):\n",
    "    def speak(self, sound=\"Arf\"):\n",
    "        return f\"{self.name} says {sound}\""
   ]
  },
  {
   "source": [
    "Now __.speak()__ is defined on the __JackRussellTerrier__ class with the default argument for sound set to \"Arf\"."
   ],
   "cell_type": "markdown",
   "metadata": {}
  },
  {
   "cell_type": "code",
   "execution_count": 60,
   "metadata": {},
   "outputs": [
    {
     "output_type": "execute_result",
     "data": {
      "text/plain": [
       "'Miles says Arf'"
      ]
     },
     "metadata": {},
     "execution_count": 60
    }
   ],
   "source": [
    "miles = JackRussellTerrier(\"Miles\", 4)\n",
    "miles.speak()"
   ]
  },
  {
   "source": [
    "Sometimes dogs make different barks, so if Miles gets angry and growls, you can still call .speak() with a different sound:"
   ],
   "cell_type": "markdown",
   "metadata": {}
  },
  {
   "cell_type": "code",
   "execution_count": 61,
   "metadata": {},
   "outputs": [
    {
     "output_type": "execute_result",
     "data": {
      "text/plain": [
       "'Miles says Grr'"
      ]
     },
     "metadata": {},
     "execution_count": 61
    }
   ],
   "source": [
    "miles.speak('Grr')"
   ]
  },
  {
   "source": [
    "One thing to keep in mind about class inheritance is that changes to the parent class automatically propagate to child classes. This occurs as long as the attribute or method being changed isn’t overridden in the child class."
   ],
   "cell_type": "markdown",
   "metadata": {}
  },
  {
   "source": [
    "## References\n",
    "1. https://realpython.com/python3-object-oriented-programming/"
   ],
   "cell_type": "markdown",
   "metadata": {}
  }
 ]
}