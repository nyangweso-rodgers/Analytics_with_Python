{
 "cells": [
  {
   "cell_type": "markdown",
   "metadata": {},
   "source": [
    "## Openning Files\n",
    "Python can be used to <b>read</b> and<b> write</b> the contents of <b>files</b>. Text files are easiest to manipulate. Before a file can be edited, it must be opened, using the <b>open function</b>.\n",
    "\n",
    "<b>my_file = open(\"filename.txt\")</b>\n",
    "\n",
    "The argument of the <b>open function</b> is the <b>path</b> to the file. If the file is in the current working directory, you can specify only its name.\n",
    "\n",
    "<b>close method</b> is used to close a file once a file is opened and used.\n"
   ]
  },
  {
   "cell_type": "markdown",
   "metadata": {},
   "source": [
    "## Modes of openning files:\n",
    "\n",
    "<b>'r'</b> - read mode (default)\n",
    "\n",
    "<b>'w'</b> - write mode (rewritting the contents of the file)\n",
    "\n",
    "<b>'a'</b> - append mode (adding new content to the end of the file)\n",
    "\n",
    "<b>'b'</b> - binary mode (opens the file in a <b>binary</b> mode (used for non-text files e.g., image and sound files)\n",
    "\n",
    "<b>'rb'</b> - binary read mode\n",
    "\n",
    "<b>'wb'</b> - binary write mode"
   ]
  },
  {
   "cell_type": "markdown",
   "metadata": {},
   "source": [
    "## Reading Files"
   ]
  },
  {
   "cell_type": "code",
   "execution_count": 1,
   "metadata": {},
   "outputs": [
    {
     "name": "stdout",
     "output_type": "stream",
     "text": [
      "Opening Files\n",
      "// Python can be used to read and write the contents of files.\n",
      "// text files are the easiest to manipulate .\n",
      "// before a file can be edited, it must be opened, using the open function\n"
     ]
    }
   ],
   "source": [
    "file_1 = open(\"sample_file_1.txt\", \"r\")\n",
    "print(file_1.read())"
   ]
  },
  {
   "cell_type": "code",
   "execution_count": 2,
   "metadata": {},
   "outputs": [
    {
     "name": "stdout",
     "output_type": "stream",
     "text": [
      "\n"
     ]
    }
   ],
   "source": [
    "print(file_1.read(2))"
   ]
  },
  {
   "cell_type": "code",
   "execution_count": 3,
   "metadata": {},
   "outputs": [],
   "source": [
    "file_1.close()"
   ]
  },
  {
   "cell_type": "markdown",
   "metadata": {},
   "source": [
    "<b>Remark:</b> Just like passing no arguments, negative values will return the entire contents."
   ]
  },
  {
   "cell_type": "markdown",
   "metadata": {},
   "source": [
    "After all contents in a file have been read, any attempt to read further from that file will return an <b>empty string</b> - because you are trying to read from the end of the file."
   ]
  },
  {
   "cell_type": "markdown",
   "metadata": {},
   "source": [
    "To retrieve each line in a file, you can use the <b>readlines method</b> to return a list in which each element is a line in the file."
   ]
  },
  {
   "cell_type": "code",
   "execution_count": 29,
   "metadata": {},
   "outputs": [
    {
     "name": "stdout",
     "output_type": "stream",
     "text": [
      "['Opening Files\\n', '// Python can be used to read and write the contents of files.\\n', '// text files are the easiest to manipulate .\\n', '// before a file can be edited, it must be opened, using the open functionThis line has been appended to this file using the append method']\n",
      "<class '_io.TextIOWrapper'>\n"
     ]
    }
   ],
   "source": [
    "file_2 = open(\"sample_file_1.txt\", \"r\")\n",
    "print(file_2.readlines())\n",
    "print(type(file_2))\n",
    "\n",
    "file_2.close()"
   ]
  },
  {
   "cell_type": "markdown",
   "metadata": {},
   "source": [
    "We can use a <b>for loop</b> to iterate through the lines in the file"
   ]
  },
  {
   "cell_type": "code",
   "execution_count": 7,
   "metadata": {},
   "outputs": [
    {
     "name": "stdout",
     "output_type": "stream",
     "text": [
      "Opening Files\n",
      "\n",
      "// Python can be used to read and write the contents of files.\n",
      "\n",
      "// text files are the easiest to manipulate .\n",
      "\n",
      "// before a file can be edited, it must be opened, using the open function\n"
     ]
    }
   ],
   "source": [
    "file_3 = open(\"sample_file_1.txt\", \"r\")\n",
    "for line in file_3:\n",
    "    print(line)\n",
    "file_3.close()"
   ]
  },
  {
   "cell_type": "markdown",
   "metadata": {},
   "source": [
    "### Writing Files\n",
    "Use the <b>write method</b> to write a <b>string</b> to the file"
   ]
  },
  {
   "cell_type": "code",
   "execution_count": 8,
   "metadata": {},
   "outputs": [],
   "source": [
    "file_4 = open(\"sample_file_2.txt\", \"w\")\n",
    "file_4.write(\"//Writing Files. This line has been written\")\n",
    "file_4.close()"
   ]
  },
  {
   "cell_type": "code",
   "execution_count": 11,
   "metadata": {},
   "outputs": [
    {
     "name": "stdout",
     "output_type": "stream",
     "text": [
      "//Writing Files. This line has been written\n",
      "Finished!\n"
     ]
    }
   ],
   "source": [
    "file_5 = open(\"sample_file_2.txt\", \"r\")\n",
    "print(file_5.read())\n",
    "print(\"Finished!\")\n",
    "file_5.close()"
   ]
  },
  {
   "cell_type": "markdown",
   "metadata": {},
   "source": [
    "<b>Remark:</b> The <b>\"w\"</b> mode will create a file, if it does not already exist.\n",
    "\n",
    "<b>Remark:</b> When a file is opened in write mode, the file's existing content is deleted"
   ]
  },
  {
   "cell_type": "markdown",
   "metadata": {},
   "source": [
    "The <b>write method</b> returns the number of <b>bytes</b> written to a file, if successful."
   ]
  },
  {
   "cell_type": "code",
   "execution_count": 13,
   "metadata": {},
   "outputs": [
    {
     "name": "stdout",
     "output_type": "stream",
     "text": [
      "12\n"
     ]
    }
   ],
   "source": [
    "msg = \"hello world1\"\n",
    "file_6 = open(\"sample_file_3.txt\", \"w\")\n",
    "amount_written = file_6.write(msg)\n",
    "print(amount_written)\n",
    "file_6.close()"
   ]
  },
  {
   "cell_type": "markdown",
   "metadata": {},
   "source": [
    "<b>NOTE:</b> To write something other than a <b>string</b>, it needs to be converted to a <b>string</b> first."
   ]
  },
  {
   "cell_type": "markdown",
   "metadata": {},
   "source": [
    "## Working with Files\n",
    "It's a good practice to avoid wating resources by making sure that files are always closed after they have been used. One way of doing this is to use <b>try</b> and <b>finally</b>"
   ]
  },
  {
   "cell_type": "code",
   "execution_count": 14,
   "metadata": {},
   "outputs": [
    {
     "name": "stdout",
     "output_type": "stream",
     "text": [
      "Op\n"
     ]
    }
   ],
   "source": [
    "try:\n",
    "    file_7 = open(\"sample_file_1.txt\", \"r\")\n",
    "    print(file_7.read(2))\n",
    "finally:\n",
    "    file_7.close()"
   ]
  },
  {
   "cell_type": "markdown",
   "metadata": {},
   "source": [
    "This ensures that the file is always closed even if an error occurs."
   ]
  },
  {
   "cell_type": "markdown",
   "metadata": {},
   "source": [
    "An alternative way of doing this is using <b>with</b> statement. This creates a temporary <b>variable</b>, which is only accessible in the indented block of the <b>with</b> statement."
   ]
  },
  {
   "cell_type": "code",
   "execution_count": 16,
   "metadata": {},
   "outputs": [
    {
     "name": "stdout",
     "output_type": "stream",
     "text": [
      "Opening Files\n",
      "// Python can be used to read and write the contents of files.\n",
      "// text files are the easiest to manipulate .\n",
      "// before a file can be edited, it must be opened, using the open function\n"
     ]
    }
   ],
   "source": [
    "with open(\"sample_file_1.txt\") as file_8:\n",
    "    print(file_8.read())"
   ]
  },
  {
   "cell_type": "markdown",
   "metadata": {},
   "source": [
    "The file is automatically closed at the end of the <b>with</b> statement, even if exceptions occur with it."
   ]
  },
  {
   "cell_type": "markdown",
   "metadata": {},
   "source": [
    "We can set the mode to <b>append</b> using a lowercase \"a\". This will not create a new file but just use the existing file. If we call the method write, it will just write to the existing file then <b>add</b>"
   ]
  },
  {
   "cell_type": "code",
   "execution_count": 17,
   "metadata": {},
   "outputs": [],
   "source": [
    "with open(\"sample_file_1.txt\", 'a') as file_9:\n",
    "    file_9.write('This line has been appended to this file using the append method')"
   ]
  },
  {
   "cell_type": "code",
   "execution_count": 18,
   "metadata": {},
   "outputs": [
    {
     "name": "stdout",
     "output_type": "stream",
     "text": [
      "Opening Files\n",
      "// Python can be used to read and write the contents of files.\n",
      "// text files are the easiest to manipulate .\n",
      "// before a file can be edited, it must be opened, using the open functionThis line has been appended to this file using the append method\n"
     ]
    }
   ],
   "source": [
    "with open(\"sample_file_1.txt\", \"r\") as file_10:\n",
    "    print(file_10.read())"
   ]
  },
  {
   "cell_type": "markdown",
   "metadata": {},
   "source": [
    "We can <b>copy</b> one file to a new file as follows:"
   ]
  },
  {
   "cell_type": "code",
   "execution_count": 19,
   "metadata": {},
   "outputs": [],
   "source": [
    "with open('sample_file_2.txt', 'r') as file_11:\n",
    "    with open('sample_file_3.txt', 'w') as file_12:\n",
    "        for line in file_11:\n",
    "            file_12.write(line)"
   ]
  },
  {
   "cell_type": "code",
   "execution_count": null,
   "metadata": {},
   "outputs": [],
   "source": []
  }
 ],
 "metadata": {
  "kernelspec": {
   "display_name": "Python 3",
   "language": "python",
   "name": "python3"
  },
  "language_info": {
   "codemirror_mode": {
    "name": "ipython",
    "version": 3
   },
   "file_extension": ".py",
   "mimetype": "text/x-python",
   "name": "python",
   "nbconvert_exporter": "python",
   "pygments_lexer": "ipython3",
   "version": "3.7.1"
  }
 },
 "nbformat": 4,
 "nbformat_minor": 2
}
