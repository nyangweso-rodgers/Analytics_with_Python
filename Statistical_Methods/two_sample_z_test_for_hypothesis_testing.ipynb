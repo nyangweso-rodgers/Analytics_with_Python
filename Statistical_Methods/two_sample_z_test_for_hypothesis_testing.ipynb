{
 "cells": [
  {
   "cell_type": "markdown",
   "metadata": {},
   "source": [
    "## Two-sample z-test for hypothesis testing"
   ]
  },
  {
   "cell_type": "markdown",
   "metadata": {},
   "source": [
    "In __two sample z-test__, similar to __t-test__ here we are checking _two independent data groups_ and deciding whether sample mean of two group is equal or not.\n",
    "\n",
    "__H0 : mean of two group is 0__\n",
    "\n",
    "__H1 : mean of two group is not 0__"
   ]
  },
  {
   "cell_type": "code",
   "execution_count": 3,
   "metadata": {},
   "outputs": [],
   "source": [
    "from scipy.stats import ttest_ind\n",
    "import numpy as np\n",
    "import pandas as pd \n",
    "from scipy import stats\n",
    "from statsmodels.stats import weightstats as stests"
   ]
  },
  {
   "cell_type": "code",
   "execution_count": 4,
   "metadata": {},
   "outputs": [],
   "source": [
    "before = pd.read_csv('data_for_one_sample_t_test_before_trial.csv')\n",
    "after = df = pd.read_csv('data_for_one_sample_t_test_during_trial.csv')"
   ]
  },
  {
   "cell_type": "code",
   "execution_count": 8,
   "metadata": {
    "tags": []
   },
   "outputs": [
    {
     "output_type": "stream",
     "name": "stdout",
     "text": "0.1046457730845599\naccept null hypothesis\n"
    }
   ],
   "source": [
    "ztest, pval = stests.ztest(before['order_value'], x2=after['order_value'], value=0,alternative='two-sided')\n",
    "print(float(pval))\n",
    "if pval<0.05:\n",
    "    print(\"reject null hypothesis\")\n",
    "else:\n",
    "    print(\"accept null hypothesis\")"
   ]
  }
 ],
 "metadata": {
  "language_info": {
   "codemirror_mode": {
    "name": "ipython",
    "version": 3
   },
   "file_extension": ".py",
   "mimetype": "text/x-python",
   "name": "python",
   "nbconvert_exporter": "python",
   "pygments_lexer": "ipython3",
   "version": "3.7.6-final"
  },
  "orig_nbformat": 2,
  "kernelspec": {
   "name": "python37464bitbaseconda08747ba86b4e47b190667d12a1bf6dd8",
   "display_name": "Python 3.7.4 64-bit ('base': conda)"
  }
 },
 "nbformat": 4,
 "nbformat_minor": 2
}