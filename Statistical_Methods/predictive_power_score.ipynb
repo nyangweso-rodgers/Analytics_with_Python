{
 "cells": [
  {
   "cell_type": "markdown",
   "metadata": {},
   "source": [
    "## Predictive Power Score (PPS)\n",
    "The __PPS__ is an alternative to __correlation__ that finds patterns within a data."
   ]
  },
  {
   "cell_type": "markdown",
   "metadata": {},
   "source": [
    "## Calculating the Predictive Power Score (PPS)\n",
    "Suppose we have two columns and want to calculate the __predictive power score__ of A predicting B. In this case, we treat B as our __target variable__ and A as our (only) __feature__. We can now calculate a __cross-validated Decision Tree__ and calculate a suitable evaluation metric. When the target is _numeric_ we can use a __Decision Tree Regressor__ and calculate the __Mean Absolute Error__ (MAE). When the target is _categoric_, we can use a __Decision Tree Classifier__ and calculate the weighted F1. You might also use other scores like the ROC etc"
   ]
  },
  {
   "cell_type": "markdown",
   "metadata": {},
   "source": [
    "## Applications of the PPS and the PPS matrix\n",
    "1. __Find patterns in the data__: The PPS finds every relationship that the correlation finds — and more. Thus, you can use the PPS matrix as an alternative to the correlation matrix to detect and understand linear or nonlinear patterns in your data. This is possible across data types using a single score that always ranges from 0 to 1.\n",
    "\n",
    "2. __Feature selection__: In addition to your usual feature selection mechanism, you can use the predictive power score to find good predictors for your target column. Also, you can eliminate features that just add random noise. Those features sometimes still score high in feature importance metrics. In addition, you can eliminate features that can be predicted by other features because they don’t add new information. Besides, you can identify pairs of mutually predictive features in the PPS matrix — this includes strongly correlated features but will also detect non-linear relationships.\n",
    "\n",
    "3. __Detect information leakage__: Use the PPS matrix to detect information leakage between variables — even if the information leakage is mediated via other variables.\n",
    "\n",
    "4. __Data Normalization__: Find entity structures in the data via interpreting the PPS matrix as a directed graph. This might be surprising when the data contains latent structures that were previously unknown. For example: the TicketID in the Titanic dataset is often an indicator for a family."
   ]
  },
  {
   "cell_type": "code",
   "execution_count": 2,
   "metadata": {},
   "outputs": [],
   "source": [
    "import pandas as pd\n",
    "import ppscore as pps\n",
    "import matplotlib.pyplot as plt"
   ]
  },
  {
   "cell_type": "code",
   "execution_count": 3,
   "metadata": {},
   "outputs": [
    {
     "output_type": "execute_result",
     "data": {
      "text/plain": "   Order        PID  MS SubClass MS Zoning  Lot Frontage  Lot Area Street  \\\n0      1  526301100           20        RL         141.0     31770   Pave   \n1      2  526350040           20        RH          80.0     11622   Pave   \n2      3  526351010           20        RL          81.0     14267   Pave   \n\n  Alley Lot Shape Land Contour  ... Pool Area Pool QC  Fence Misc Feature  \\\n0   NaN       IR1          Lvl  ...         0     NaN    NaN          NaN   \n1   NaN       Reg          Lvl  ...         0     NaN  MnPrv          NaN   \n2   NaN       IR1          Lvl  ...         0     NaN    NaN         Gar2   \n\n  Misc Val Mo Sold Yr Sold Sale Type  Sale Condition  SalePrice  \n0        0       5    2010       WD           Normal     215000  \n1        0       6    2010       WD           Normal     105000  \n2    12500       6    2010       WD           Normal     172000  \n\n[3 rows x 82 columns]",
      "text/html": "<div>\n<style scoped>\n    .dataframe tbody tr th:only-of-type {\n        vertical-align: middle;\n    }\n\n    .dataframe tbody tr th {\n        vertical-align: top;\n    }\n\n    .dataframe thead th {\n        text-align: right;\n    }\n</style>\n<table border=\"1\" class=\"dataframe\">\n  <thead>\n    <tr style=\"text-align: right;\">\n      <th></th>\n      <th>Order</th>\n      <th>PID</th>\n      <th>MS SubClass</th>\n      <th>MS Zoning</th>\n      <th>Lot Frontage</th>\n      <th>Lot Area</th>\n      <th>Street</th>\n      <th>Alley</th>\n      <th>Lot Shape</th>\n      <th>Land Contour</th>\n      <th>...</th>\n      <th>Pool Area</th>\n      <th>Pool QC</th>\n      <th>Fence</th>\n      <th>Misc Feature</th>\n      <th>Misc Val</th>\n      <th>Mo Sold</th>\n      <th>Yr Sold</th>\n      <th>Sale Type</th>\n      <th>Sale Condition</th>\n      <th>SalePrice</th>\n    </tr>\n  </thead>\n  <tbody>\n    <tr>\n      <th>0</th>\n      <td>1</td>\n      <td>526301100</td>\n      <td>20</td>\n      <td>RL</td>\n      <td>141.0</td>\n      <td>31770</td>\n      <td>Pave</td>\n      <td>NaN</td>\n      <td>IR1</td>\n      <td>Lvl</td>\n      <td>...</td>\n      <td>0</td>\n      <td>NaN</td>\n      <td>NaN</td>\n      <td>NaN</td>\n      <td>0</td>\n      <td>5</td>\n      <td>2010</td>\n      <td>WD</td>\n      <td>Normal</td>\n      <td>215000</td>\n    </tr>\n    <tr>\n      <th>1</th>\n      <td>2</td>\n      <td>526350040</td>\n      <td>20</td>\n      <td>RH</td>\n      <td>80.0</td>\n      <td>11622</td>\n      <td>Pave</td>\n      <td>NaN</td>\n      <td>Reg</td>\n      <td>Lvl</td>\n      <td>...</td>\n      <td>0</td>\n      <td>NaN</td>\n      <td>MnPrv</td>\n      <td>NaN</td>\n      <td>0</td>\n      <td>6</td>\n      <td>2010</td>\n      <td>WD</td>\n      <td>Normal</td>\n      <td>105000</td>\n    </tr>\n    <tr>\n      <th>2</th>\n      <td>3</td>\n      <td>526351010</td>\n      <td>20</td>\n      <td>RL</td>\n      <td>81.0</td>\n      <td>14267</td>\n      <td>Pave</td>\n      <td>NaN</td>\n      <td>IR1</td>\n      <td>Lvl</td>\n      <td>...</td>\n      <td>0</td>\n      <td>NaN</td>\n      <td>NaN</td>\n      <td>Gar2</td>\n      <td>12500</td>\n      <td>6</td>\n      <td>2010</td>\n      <td>WD</td>\n      <td>Normal</td>\n      <td>172000</td>\n    </tr>\n  </tbody>\n</table>\n<p>3 rows × 82 columns</p>\n</div>"
     },
     "metadata": {},
     "execution_count": 3
    }
   ],
   "source": [
    "df = pd.read_csv('AmesHousing.csv')\n",
    "df.head(3)"
   ]
  },
  {
   "cell_type": "code",
   "execution_count": 6,
   "metadata": {},
   "outputs": [
    {
     "output_type": "execute_result",
     "data": {
      "text/plain": "{'x': 'Lot Area',\n 'y': 'SalePrice',\n 'task': 'regression',\n 'ppscore': 0,\n 'metric': 'mean absolute error',\n 'baseline_score': 56054.2313993174,\n 'model_score': 63460.467765339214,\n 'model': DecisionTreeRegressor(criterion='mse', max_depth=None, max_features=None,\n                       max_leaf_nodes=None, min_impurity_decrease=0.0,\n                       min_impurity_split=None, min_samples_leaf=1,\n                       min_samples_split=2, min_weight_fraction_leaf=0.0,\n                       presort=False, random_state=None, splitter='best')}"
     },
     "metadata": {},
     "execution_count": 6
    }
   ],
   "source": [
    "# Calculating the PPS for a given pandas dataframe:\n",
    "pps.score(df, \"Lot Area\", \"SalePrice\")"
   ]
  },
  {
   "cell_type": "code",
   "execution_count": 7,
   "metadata": {},
   "outputs": [
    {
     "output_type": "execute_result",
     "data": {
      "text/plain": "                   Order       PID  MS SubClass  MS Zoning  Lot Frontage  \\\nOrder           1.000000  0.000000     0.000000   0.000000      0.000000   \nPID             0.993091  1.000000     0.165221   0.161765      0.068605   \nMS SubClass     0.084553  0.311771     1.000000   0.000000      0.187608   \nMS Zoning       0.738777  0.947956     0.252383   1.000000      0.304377   \nLot Frontage    0.078757  0.327156     0.249809   0.079173      1.000000   \n...                  ...       ...          ...        ...           ...   \nMo Sold         0.084364  0.077644     0.034448   0.010640      0.065892   \nYr Sold         0.998875  0.145407     0.122210   0.061598      0.129276   \nSale Type       0.105106  0.086333     0.000087   0.000000      0.027134   \nSale Condition  0.070522  0.042610     0.000019   0.002152      0.032500   \nSalePrice       0.216460  0.429878     0.134060   0.049582      0.093458   \n\n                Lot Area    Street     Alley  Lot Shape  Land Contour  ...  \\\nOrder           0.000000  0.000000  0.000000   0.000000      0.000000  ...   \nPID             0.192030  0.000000  0.089376   0.000000      0.016797  ...   \nMS SubClass     0.081994  0.000000  0.113382   0.000000      0.000000  ...   \nMS Zoning       0.347835  0.003192  0.426724   0.000044      0.000044  ...   \nLot Frontage    0.249117  0.000000  0.092385   0.006030      0.000000  ...   \n...                  ...       ...       ...        ...           ...  ...   \nMo Sold         0.068982  0.001211  0.007492   0.014351      0.002617  ...   \nYr Sold         0.131958  0.001274  0.008434   0.011809      0.012502  ...   \nSale Type       0.000000  0.000087  0.009328   0.000087      0.000087  ...   \nSale Condition  0.000000  0.000019  0.002840   0.000019      0.000019  ...   \nSalePrice       0.000000  0.000000  0.212683   0.027248      0.000000  ...   \n\n                Pool Area   Pool QC     Fence  Misc Feature  Misc Val  \\\nOrder            0.000194  0.000000  0.000000      0.000000  0.000000   \nPID              0.000000  0.000000  0.000000      0.000000  0.000000   \nMS SubClass      0.000000  0.442352  0.000761      0.000000  0.000000   \nMS Zoning        0.000044  1.000000  0.000333      0.013567  0.000000   \nLot Frontage     0.000000  0.000000  0.000000      0.000000  0.000000   \n...                   ...       ...       ...           ...       ...   \nMo Sold          0.000051  0.000000  0.048555      0.003942  0.002119   \nYr Sold          0.001539  0.169130  0.060339      0.013007  0.004606   \nSale Type        0.000087  0.215734  0.001418      0.088487  0.000000   \nSale Condition   0.000000  0.000000  0.001516      0.062473  0.000000   \nSalePrice        0.000000  0.000000  0.003510      0.000000  0.000000   \n\n                 Mo Sold   Yr Sold  Sale Type  Sale Condition  SalePrice  \nOrder           0.006323  0.790471   0.015548        0.015445   0.000000  \nPID             0.000000  0.000000   0.000000        0.004739   0.049474  \nMS SubClass     0.000000  0.000000   0.000000        0.000000   0.000000  \nMS Zoning       0.000044  0.000044   0.001060        0.000044   0.055448  \nLot Frontage    0.000000  0.000000   0.002788        0.001836   0.000000  \n...                  ...       ...        ...             ...        ...  \nMo Sold         1.000000  0.039340   0.017742        0.018548   0.065946  \nYr Sold         0.119834  1.000000   0.044377        0.069013   0.123426  \nSale Type       0.000087  0.000087   1.000000        0.594052   0.023334  \nSale Condition  0.000019  0.000019   0.511430        1.000000   0.045786  \nSalePrice       0.000000  0.000000   0.030308        0.034691   1.000000  \n\n[82 rows x 82 columns]",
      "text/html": "<div>\n<style scoped>\n    .dataframe tbody tr th:only-of-type {\n        vertical-align: middle;\n    }\n\n    .dataframe tbody tr th {\n        vertical-align: top;\n    }\n\n    .dataframe thead th {\n        text-align: right;\n    }\n</style>\n<table border=\"1\" class=\"dataframe\">\n  <thead>\n    <tr style=\"text-align: right;\">\n      <th></th>\n      <th>Order</th>\n      <th>PID</th>\n      <th>MS SubClass</th>\n      <th>MS Zoning</th>\n      <th>Lot Frontage</th>\n      <th>Lot Area</th>\n      <th>Street</th>\n      <th>Alley</th>\n      <th>Lot Shape</th>\n      <th>Land Contour</th>\n      <th>...</th>\n      <th>Pool Area</th>\n      <th>Pool QC</th>\n      <th>Fence</th>\n      <th>Misc Feature</th>\n      <th>Misc Val</th>\n      <th>Mo Sold</th>\n      <th>Yr Sold</th>\n      <th>Sale Type</th>\n      <th>Sale Condition</th>\n      <th>SalePrice</th>\n    </tr>\n  </thead>\n  <tbody>\n    <tr>\n      <th>Order</th>\n      <td>1.000000</td>\n      <td>0.000000</td>\n      <td>0.000000</td>\n      <td>0.000000</td>\n      <td>0.000000</td>\n      <td>0.000000</td>\n      <td>0.000000</td>\n      <td>0.000000</td>\n      <td>0.000000</td>\n      <td>0.000000</td>\n      <td>...</td>\n      <td>0.000194</td>\n      <td>0.000000</td>\n      <td>0.000000</td>\n      <td>0.000000</td>\n      <td>0.000000</td>\n      <td>0.006323</td>\n      <td>0.790471</td>\n      <td>0.015548</td>\n      <td>0.015445</td>\n      <td>0.000000</td>\n    </tr>\n    <tr>\n      <th>PID</th>\n      <td>0.993091</td>\n      <td>1.000000</td>\n      <td>0.165221</td>\n      <td>0.161765</td>\n      <td>0.068605</td>\n      <td>0.192030</td>\n      <td>0.000000</td>\n      <td>0.089376</td>\n      <td>0.000000</td>\n      <td>0.016797</td>\n      <td>...</td>\n      <td>0.000000</td>\n      <td>0.000000</td>\n      <td>0.000000</td>\n      <td>0.000000</td>\n      <td>0.000000</td>\n      <td>0.000000</td>\n      <td>0.000000</td>\n      <td>0.000000</td>\n      <td>0.004739</td>\n      <td>0.049474</td>\n    </tr>\n    <tr>\n      <th>MS SubClass</th>\n      <td>0.084553</td>\n      <td>0.311771</td>\n      <td>1.000000</td>\n      <td>0.000000</td>\n      <td>0.187608</td>\n      <td>0.081994</td>\n      <td>0.000000</td>\n      <td>0.113382</td>\n      <td>0.000000</td>\n      <td>0.000000</td>\n      <td>...</td>\n      <td>0.000000</td>\n      <td>0.442352</td>\n      <td>0.000761</td>\n      <td>0.000000</td>\n      <td>0.000000</td>\n      <td>0.000000</td>\n      <td>0.000000</td>\n      <td>0.000000</td>\n      <td>0.000000</td>\n      <td>0.000000</td>\n    </tr>\n    <tr>\n      <th>MS Zoning</th>\n      <td>0.738777</td>\n      <td>0.947956</td>\n      <td>0.252383</td>\n      <td>1.000000</td>\n      <td>0.304377</td>\n      <td>0.347835</td>\n      <td>0.003192</td>\n      <td>0.426724</td>\n      <td>0.000044</td>\n      <td>0.000044</td>\n      <td>...</td>\n      <td>0.000044</td>\n      <td>1.000000</td>\n      <td>0.000333</td>\n      <td>0.013567</td>\n      <td>0.000000</td>\n      <td>0.000044</td>\n      <td>0.000044</td>\n      <td>0.001060</td>\n      <td>0.000044</td>\n      <td>0.055448</td>\n    </tr>\n    <tr>\n      <th>Lot Frontage</th>\n      <td>0.078757</td>\n      <td>0.327156</td>\n      <td>0.249809</td>\n      <td>0.079173</td>\n      <td>1.000000</td>\n      <td>0.249117</td>\n      <td>0.000000</td>\n      <td>0.092385</td>\n      <td>0.006030</td>\n      <td>0.000000</td>\n      <td>...</td>\n      <td>0.000000</td>\n      <td>0.000000</td>\n      <td>0.000000</td>\n      <td>0.000000</td>\n      <td>0.000000</td>\n      <td>0.000000</td>\n      <td>0.000000</td>\n      <td>0.002788</td>\n      <td>0.001836</td>\n      <td>0.000000</td>\n    </tr>\n    <tr>\n      <th>...</th>\n      <td>...</td>\n      <td>...</td>\n      <td>...</td>\n      <td>...</td>\n      <td>...</td>\n      <td>...</td>\n      <td>...</td>\n      <td>...</td>\n      <td>...</td>\n      <td>...</td>\n      <td>...</td>\n      <td>...</td>\n      <td>...</td>\n      <td>...</td>\n      <td>...</td>\n      <td>...</td>\n      <td>...</td>\n      <td>...</td>\n      <td>...</td>\n      <td>...</td>\n      <td>...</td>\n    </tr>\n    <tr>\n      <th>Mo Sold</th>\n      <td>0.084364</td>\n      <td>0.077644</td>\n      <td>0.034448</td>\n      <td>0.010640</td>\n      <td>0.065892</td>\n      <td>0.068982</td>\n      <td>0.001211</td>\n      <td>0.007492</td>\n      <td>0.014351</td>\n      <td>0.002617</td>\n      <td>...</td>\n      <td>0.000051</td>\n      <td>0.000000</td>\n      <td>0.048555</td>\n      <td>0.003942</td>\n      <td>0.002119</td>\n      <td>1.000000</td>\n      <td>0.039340</td>\n      <td>0.017742</td>\n      <td>0.018548</td>\n      <td>0.065946</td>\n    </tr>\n    <tr>\n      <th>Yr Sold</th>\n      <td>0.998875</td>\n      <td>0.145407</td>\n      <td>0.122210</td>\n      <td>0.061598</td>\n      <td>0.129276</td>\n      <td>0.131958</td>\n      <td>0.001274</td>\n      <td>0.008434</td>\n      <td>0.011809</td>\n      <td>0.012502</td>\n      <td>...</td>\n      <td>0.001539</td>\n      <td>0.169130</td>\n      <td>0.060339</td>\n      <td>0.013007</td>\n      <td>0.004606</td>\n      <td>0.119834</td>\n      <td>1.000000</td>\n      <td>0.044377</td>\n      <td>0.069013</td>\n      <td>0.123426</td>\n    </tr>\n    <tr>\n      <th>Sale Type</th>\n      <td>0.105106</td>\n      <td>0.086333</td>\n      <td>0.000087</td>\n      <td>0.000000</td>\n      <td>0.027134</td>\n      <td>0.000000</td>\n      <td>0.000087</td>\n      <td>0.009328</td>\n      <td>0.000087</td>\n      <td>0.000087</td>\n      <td>...</td>\n      <td>0.000087</td>\n      <td>0.215734</td>\n      <td>0.001418</td>\n      <td>0.088487</td>\n      <td>0.000000</td>\n      <td>0.000087</td>\n      <td>0.000087</td>\n      <td>1.000000</td>\n      <td>0.594052</td>\n      <td>0.023334</td>\n    </tr>\n    <tr>\n      <th>Sale Condition</th>\n      <td>0.070522</td>\n      <td>0.042610</td>\n      <td>0.000019</td>\n      <td>0.002152</td>\n      <td>0.032500</td>\n      <td>0.000000</td>\n      <td>0.000019</td>\n      <td>0.002840</td>\n      <td>0.000019</td>\n      <td>0.000019</td>\n      <td>...</td>\n      <td>0.000000</td>\n      <td>0.000000</td>\n      <td>0.001516</td>\n      <td>0.062473</td>\n      <td>0.000000</td>\n      <td>0.000019</td>\n      <td>0.000019</td>\n      <td>0.511430</td>\n      <td>1.000000</td>\n      <td>0.045786</td>\n    </tr>\n    <tr>\n      <th>SalePrice</th>\n      <td>0.216460</td>\n      <td>0.429878</td>\n      <td>0.134060</td>\n      <td>0.049582</td>\n      <td>0.093458</td>\n      <td>0.000000</td>\n      <td>0.000000</td>\n      <td>0.212683</td>\n      <td>0.027248</td>\n      <td>0.000000</td>\n      <td>...</td>\n      <td>0.000000</td>\n      <td>0.000000</td>\n      <td>0.003510</td>\n      <td>0.000000</td>\n      <td>0.000000</td>\n      <td>0.000000</td>\n      <td>0.000000</td>\n      <td>0.030308</td>\n      <td>0.034691</td>\n      <td>1.000000</td>\n    </tr>\n  </tbody>\n</table>\n<p>82 rows × 82 columns</p>\n</div>"
     },
     "metadata": {},
     "execution_count": 7
    }
   ],
   "source": [
    "# You can also calculate the whole PPS matrix:\n",
    "pps.matrix(df)"
   ]
  },
  {
   "cell_type": "markdown",
   "metadata": {},
   "source": [
    "## How fast is the PPS in comparison to the correlation?\n",
    "Although the __PPS__ has many advantages over the __correlation__, there is some drawback: it takes longer to calculate. When calculating a single PPS using the Python library, the time should be no problem because it usually takes around 10–500ms. The calculation time mostly depends on the data types, the number of rows and the used implementation. However, when calculating the whole PPS matrix for 40 columns this results in 40*40=1600 individual calculations which might take 1–10 minutes."
   ]
  },
  {
   "cell_type": "markdown",
   "metadata": {},
   "source": [
    "## Limitations\n",
    "1. The calculation is slower than the correlation (matrix).\n",
    "\n",
    "2. The score cannot be interpreted as easily as the correlation because it does not tell you anything about the type of relationship that was found. Thus, the PPS is better for finding patterns but the correlation is better to communicate found linear relationships.\n",
    "\n",
    "3. You cannot compare the scores for different target variables in a strict mathematical way because they are calculated using different evaluation metrics. The scores are still valuable in the real world, but you need to keep this in mind.\n",
    "\n",
    "4. There are limitations of the components used underneath the hood. Please remember: you might exchange the components e.g. using a GLM instead of a Decision Tree or using ROC instead of F1 for binary classifications.\n",
    "\n",
    "5. If you use the PPS for feature selection you still want to perform forward and backward selection in addition. Also, the PPS cannot detect interaction effects between features towards your target."
   ]
  },
  {
   "cell_type": "markdown",
   "metadata": {},
   "source": [
    "### References\n",
    "1. https://towardsdatascience.com/rip-correlation-introducing-the-predictive-power-score-3d90808b9598"
   ]
  }
 ],
 "metadata": {
  "language_info": {
   "codemirror_mode": {
    "name": "ipython",
    "version": 3
   },
   "file_extension": ".py",
   "mimetype": "text/x-python",
   "name": "python",
   "nbconvert_exporter": "python",
   "pygments_lexer": "ipython3",
   "version": "3.7.4-final"
  },
  "orig_nbformat": 2,
  "kernelspec": {
   "name": "python37464bitbaseconda08747ba86b4e47b190667d12a1bf6dd8",
   "display_name": "Python 3.7.4 64-bit ('base': conda)"
  }
 },
 "nbformat": 4,
 "nbformat_minor": 2
}