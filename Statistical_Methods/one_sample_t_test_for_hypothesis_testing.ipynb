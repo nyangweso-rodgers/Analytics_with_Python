{
 "cells": [
  {
   "cell_type": "markdown",
   "metadata": {},
   "source": [
    "## One sample t-test : \n",
    "The __One Sample t Test__ determines whether the sample mean is statistically different from a known or hypothesised population mean. The One Sample t Test is a parametric test.\n",
    "\n",
    "Example :- you have daily reveneus for 27 sales days and you are checking whether avg daily revenue is 800,000  or not."
   ]
  },
  {
   "cell_type": "code",
   "execution_count": 1,
   "metadata": {},
   "outputs": [],
   "source": [
    "from scipy.stats import ttest_1samp\n",
    "import numpy as np\n",
    "import pandas as pd "
   ]
  },
  {
   "cell_type": "code",
   "execution_count": 2,
   "metadata": {
    "tags": []
   },
   "outputs": [
    {
     "output_type": "stream",
     "name": "stdout",
     "text": "<class 'pandas.core.frame.DataFrame'>\nRangeIndex: 27 entries, 0 to 26\nData columns (total 4 columns):\n #   Column       Non-Null Count  Dtype  \n---  ------       --------------  -----  \n 0   order_date   27 non-null     object \n 1   order_count  27 non-null     int64  \n 2   volume       27 non-null     float64\n 3   order_value  27 non-null     float64\ndtypes: float64(2), int64(1), object(1)\nmemory usage: 992.0+ bytes\n"
    }
   ],
   "source": [
    "df = pd.read_csv('data_for_one_sample_t_test_during_trial.csv')\n",
    "df.info()"
   ]
  },
  {
   "cell_type": "code",
   "execution_count": 3,
   "metadata": {},
   "outputs": [
    {
     "output_type": "execute_result",
     "data": {
      "text/plain": "array([ 694932.,  606540.,  646974.,  725092.,  723625.,  154180.,\n        520303.,  830264.,  584198.,  528563.,  557947.,  712495.,\n        375876.,  407756.,  737276.,  682145.,  596740.,  701326.,\n       1138710.,  370857.,  590415.,  890042.,  825710., 1357670.,\n        838833.,  860235.,  188084.])"
     },
     "metadata": {},
     "execution_count": 3
    }
   ],
   "source": [
    "revenues = df['order_value']\n",
    "rev = revenues.to_numpy()\n",
    "rev"
   ]
  },
  {
   "cell_type": "code",
   "execution_count": 5,
   "metadata": {
    "tags": []
   },
   "outputs": [
    {
     "output_type": "stream",
     "name": "stdout",
     "text": "660992.1481481482\np-values 0.008774320945475804\nwe are rejecting null hypothesis\n"
    }
   ],
   "source": [
    "rev_mean = np.mean(rev)\n",
    "print((rev_mean))\n",
    "tset, pval = ttest_1samp(rev, 800000)\n",
    "print(\"p-values\", pval)\n",
    "if pval < 0.05: # alpha value is 0.05 or 5%\n",
    "    print(\"we are rejecting null hypothesis\")\n",
    "else:\n",
    "    print(\"we are accepting null hypothesis\")"
   ]
  }
 ],
 "metadata": {
  "language_info": {
   "codemirror_mode": {
    "name": "ipython",
    "version": 3
   },
   "file_extension": ".py",
   "mimetype": "text/x-python",
   "name": "python",
   "nbconvert_exporter": "python",
   "pygments_lexer": "ipython3",
   "version": "3.7.6-final"
  },
  "orig_nbformat": 2,
  "kernelspec": {
   "name": "python37464bitbaseconda08747ba86b4e47b190667d12a1bf6dd8",
   "display_name": "Python 3.7.4 64-bit ('base': conda)"
  }
 },
 "nbformat": 4,
 "nbformat_minor": 2
}