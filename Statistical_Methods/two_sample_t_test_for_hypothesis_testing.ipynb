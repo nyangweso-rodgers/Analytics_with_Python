{
 "cells": [
  {
   "cell_type": "markdown",
   "metadata": {},
   "source": [
    "### Two sampled T-test\n",
    "\n",
    "The __Independent Samples t Test__ or __2-sample t-test__ _compares the means of two independent groups in order to determine whether there is statistical evidence that the associated population means are significantly different_. The Independent Samples t Test is a __parametric test__. This test is also known as: __Independent t Test__.\n",
    "\n",
    "__Example:__ is there an association between _before_ and _after_ the trial"
   ]
  },
  {
   "cell_type": "code",
   "execution_count": 11,
   "metadata": {},
   "outputs": [],
   "source": [
    "from scipy.stats import ttest_ind\n",
    "import numpy as np\n",
    "import pandas as pd "
   ]
  },
  {
   "cell_type": "code",
   "execution_count": 2,
   "metadata": {},
   "outputs": [],
   "source": [
    "before = pd.read_csv('data_for_one_sample_t_test_before_trial.csv')\n",
    "after = df = pd.read_csv('data_for_one_sample_t_test_during_trial.csv')"
   ]
  },
  {
   "cell_type": "code",
   "execution_count": 13,
   "metadata": {
    "tags": []
   },
   "outputs": [
    {
     "output_type": "stream",
     "name": "stdout",
     "text": "[ 438430.  549213.  481520.  602285.  293405.  328055.  655009.  588776.\n  598810.  669805.  739437.  302620.  433690.  695373.  692228.  577435.\n  573743.  751562.  294930.  464920.  676914.  660123.  679981.  729855.\n 1019172.  307955.  435731.]\nafter date :-\n\n[ 694932.  606540.  646974.  725092.  723625.  154180.  520303.  830264.\n  584198.  528563.  557947.  712495.  375876.  407756.  737276.  682145.\n  596740.  701326. 1138710.  370857.  590415.  890042.  825710. 1357670.\n  838833.  860235.  188084.]\nbefore trial mean value:  564480.6296296297\nduring trial mean value:  660992.1481481482\nbefore trial standard deviation value:  171489.74972891252\nduring trial standard deviation value:  250118.06470910873\np-value:  0.11069368837187864\nwe accept null hypothesis\n"
    }
   ],
   "source": [
    "before_rev = before['order_value'].to_numpy()\n",
    "after_rev = after['order_value'].to_numpy()\n",
    "print(before_rev)\n",
    "print('after date :-\\n')\n",
    "print(after_rev)\n",
    "print('before trial mean value: ', np.mean(before_rev))\n",
    "print('during trial mean value: ', np.mean(after_rev))\n",
    "print('before trial standard deviation value: ', np.std(before_rev))\n",
    "print('during trial standard deviation value: ', np.std(after_rev))\n",
    "ttest, pval = ttest_ind(before_rev, after_rev)\n",
    "print('p-value: ', pval)\n",
    "if pval <0.05:\n",
    "  print(\"we reject null hypothesis\")\n",
    "else:\n",
    "  print(\"we accept null hypothesis\")"
   ]
  }
 ],
 "metadata": {
  "language_info": {
   "codemirror_mode": {
    "name": "ipython",
    "version": 3
   },
   "file_extension": ".py",
   "mimetype": "text/x-python",
   "name": "python",
   "nbconvert_exporter": "python",
   "pygments_lexer": "ipython3",
   "version": "3.7.6-final"
  },
  "orig_nbformat": 2,
  "kernelspec": {
   "name": "python37464bitbaseconda08747ba86b4e47b190667d12a1bf6dd8",
   "display_name": "Python 3.7.4 64-bit ('base': conda)"
  }
 },
 "nbformat": 4,
 "nbformat_minor": 2
}