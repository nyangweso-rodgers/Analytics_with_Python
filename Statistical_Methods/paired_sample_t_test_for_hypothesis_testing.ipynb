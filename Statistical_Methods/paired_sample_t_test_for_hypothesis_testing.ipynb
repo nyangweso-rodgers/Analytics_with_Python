{
 "cells": [
  {
   "cell_type": "markdown",
   "metadata": {},
   "source": [
    "## Paired Sample t-test\n",
    "The __paired sample t-test__ is also called __dependent sample t-test__. It’s an _uni-variate test_ that tests for a significant difference between 2 related variables. An example of this is if you where to collect the blood pressure for an individual before and after some treatment, condition, or time point.\n",
    "\n",
    "__H0 :- means difference between two sample is 0__\n",
    "\n",
    "__H1:- mean difference between two sample is not 0__"
   ]
  },
  {
   "cell_type": "code",
   "execution_count": 2,
   "metadata": {},
   "outputs": [],
   "source": [
    "from scipy.stats import ttest_ind\n",
    "import numpy as np\n",
    "import pandas as pd "
   ]
  },
  {
   "cell_type": "code",
   "execution_count": 6,
   "metadata": {},
   "outputs": [],
   "source": [
    "before = pd.read_csv('data_for_one_sample_t_test_before_trial.csv')\n",
    "after = df = pd.read_csv('data_for_one_sample_t_test_during_trial.csv')\n",
    "before_rev = before['order_value']\n",
    "after_rev = after['order_value']"
   ]
  },
  {
   "cell_type": "code",
   "execution_count": 4,
   "metadata": {},
   "outputs": [],
   "source": [
    "from scipy import stats"
   ]
  },
  {
   "cell_type": "code",
   "execution_count": 12,
   "metadata": {
    "tags": []
   },
   "outputs": [
    {
     "output_type": "stream",
     "name": "stdout",
     "text": "before trial mean value:  564480.6296296297\nduring trial mean value:  660992.1481481482\n"
    }
   ],
   "source": [
    "print('before trial mean value: ', np.mean(before_rev))\n",
    "print('during trial mean value: ', np.mean(after_rev))"
   ]
  },
  {
   "cell_type": "code",
   "execution_count": 10,
   "metadata": {
    "tags": []
   },
   "outputs": [
    {
     "output_type": "stream",
     "name": "stdout",
     "text": "before trial:  count    2.700000e+01\nmean     5.644806e+05\nstd      1.747565e+05\nmin      2.934050e+05\n25%      4.370805e+05\n50%      5.887760e+05\n75%      6.784475e+05\nmax      1.019172e+06\nName: order_value, dtype: float64\nafter trial:  count    2.700000e+01\nmean     6.609921e+05\nstd      2.548826e+05\nmin      1.541800e+05\n25%      5.432550e+05\n50%      6.821450e+05\n75%      7.814930e+05\nmax      1.357670e+06\nName: order_value, dtype: float64\n"
    }
   ],
   "source": [
    "print('before trial: ',before_rev.describe())\n",
    "print('after trial: ',after_rev.describe())"
   ]
  },
  {
   "cell_type": "code",
   "execution_count": 11,
   "metadata": {
    "tags": []
   },
   "outputs": [
    {
     "output_type": "stream",
     "name": "stdout",
     "text": "0.08725174809340432\naccept null hypothesis\n"
    }
   ],
   "source": [
    "ttest,pval = stats.ttest_rel(before_rev, after_rev)\n",
    "print(pval)\n",
    "if pval<0.05:\n",
    "    print(\"reject null hypothesis\")\n",
    "else:\n",
    "    print(\"accept null hypothesis\")"
   ]
  }
 ],
 "metadata": {
  "language_info": {
   "codemirror_mode": {
    "name": "ipython",
    "version": 3
   },
   "file_extension": ".py",
   "mimetype": "text/x-python",
   "name": "python",
   "nbconvert_exporter": "python",
   "pygments_lexer": "ipython3",
   "version": "3.7.6-final"
  },
  "orig_nbformat": 2,
  "kernelspec": {
   "name": "python37464bitbaseconda08747ba86b4e47b190667d12a1bf6dd8",
   "display_name": "Python 3.7.4 64-bit ('base': conda)"
  }
 },
 "nbformat": 4,
 "nbformat_minor": 2
}